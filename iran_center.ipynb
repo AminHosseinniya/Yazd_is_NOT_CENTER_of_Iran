{
 "cells": [
  {
   "cell_type": "code",
   "execution_count": 2,
   "metadata": {},
   "outputs": [],
   "source": [
    "import numpy as np\n",
    "import pandas as pd\n",
    "import json\n",
    "from geopy.distance import great_circle"
   ]
  },
  {
   "cell_type": "markdown",
   "metadata": {},
   "source": [
    "Read json file contains border points coordinates:"
   ]
  },
  {
   "cell_type": "code",
   "execution_count": 3,
   "metadata": {},
   "outputs": [],
   "source": [
    "with open(\"Border_Points.json\", \"r\") as file:\n",
    "    data = json.load(file)"
   ]
  },
  {
   "cell_type": "code",
   "execution_count": 4,
   "metadata": {},
   "outputs": [
    {
     "data": {
      "text/plain": [
       "2284"
      ]
     },
     "execution_count": 4,
     "metadata": {},
     "output_type": "execute_result"
    }
   ],
   "source": [
    "data = data[\"features\"][0][\"geometry\"][\"coordinates\"][0]\n",
    "len(data)"
   ]
  },
  {
   "cell_type": "markdown",
   "metadata": {},
   "source": [
    "To obtain destribution of points in each of four coordinate regions:"
   ]
  },
  {
   "cell_type": "code",
   "execution_count": 5,
   "metadata": {},
   "outputs": [],
   "source": [
    "Sari_coor   = [36.561151, 53.060088] # representing a point separates Iranian border into eastern and wertern regions\n",
    "Ilam_coor = [33.568375, 46.045389]  # represinting a point separates Iranian border into northern and southern regions"
   ]
  },
  {
   "cell_type": "code",
   "execution_count": 6,
   "metadata": {},
   "outputs": [],
   "source": [
    "Ilam_lat = Ilam_coor[0]\n",
    "Ilam_lng = Ilam_coor[1]\n",
    "Sari_lat = Sari_coor[0]\n",
    "Sari_lng = Sari_coor[1]"
   ]
  },
  {
   "cell_type": "code",
   "execution_count": 7,
   "metadata": {},
   "outputs": [
    {
     "data": {
      "text/html": [
       "<div>\n",
       "<style scoped>\n",
       "    .dataframe tbody tr th:only-of-type {\n",
       "        vertical-align: middle;\n",
       "    }\n",
       "\n",
       "    .dataframe tbody tr th {\n",
       "        vertical-align: top;\n",
       "    }\n",
       "\n",
       "    .dataframe thead th {\n",
       "        text-align: right;\n",
       "    }\n",
       "</style>\n",
       "<table border=\"1\" class=\"dataframe\">\n",
       "  <thead>\n",
       "    <tr style=\"text-align: right;\">\n",
       "      <th></th>\n",
       "      <th>lng</th>\n",
       "      <th>lat</th>\n",
       "    </tr>\n",
       "  </thead>\n",
       "  <tbody>\n",
       "    <tr>\n",
       "      <th>0</th>\n",
       "      <td>48.613949</td>\n",
       "      <td>29.928497</td>\n",
       "    </tr>\n",
       "    <tr>\n",
       "      <th>1</th>\n",
       "      <td>48.621193</td>\n",
       "      <td>29.934804</td>\n",
       "    </tr>\n",
       "    <tr>\n",
       "      <th>2</th>\n",
       "      <td>48.624422</td>\n",
       "      <td>29.934589</td>\n",
       "    </tr>\n",
       "    <tr>\n",
       "      <th>3</th>\n",
       "      <td>48.630881</td>\n",
       "      <td>29.932651</td>\n",
       "    </tr>\n",
       "    <tr>\n",
       "      <th>4</th>\n",
       "      <td>48.640818</td>\n",
       "      <td>29.932005</td>\n",
       "    </tr>\n",
       "  </tbody>\n",
       "</table>\n",
       "</div>"
      ],
      "text/plain": [
       "         lng        lat\n",
       "0  48.613949  29.928497\n",
       "1  48.621193  29.934804\n",
       "2  48.624422  29.934589\n",
       "3  48.630881  29.932651\n",
       "4  48.640818  29.932005"
      ]
     },
     "execution_count": 7,
     "metadata": {},
     "output_type": "execute_result"
    }
   ],
   "source": [
    "points = pd.DataFrame(data, columns=[\"lng\", \"lat\"])\n",
    "points.head()"
   ]
  },
  {
   "cell_type": "code",
   "execution_count": 8,
   "metadata": {},
   "outputs": [
    {
     "name": "stdout",
     "output_type": "stream",
     "text": [
      "len_NE : 94\n",
      "len_NW : 446\n",
      "len_SW : 768\n",
      "len_SE : 976\n"
     ]
    }
   ],
   "source": [
    "len_NE = len(points.loc[(points[\"lat\"] > Ilam_lat) & (points[\"lng\"] > Sari_lng)])\n",
    "len_NW = len(points.loc[(points[\"lat\"] > Ilam_lat) & (points[\"lng\"] < Sari_lng)])\n",
    "len_SW = len(points.loc[(points[\"lat\"] < Ilam_lat) & (points[\"lng\"] < Sari_lng)])\n",
    "len_SE = len(points.loc[(points[\"lat\"] < Ilam_lat) & (points[\"lng\"] > Sari_lng)])\n",
    "print(f\"len_NE : {len_NE}\")\n",
    "print(f\"len_NW : {len_NW}\")\n",
    "print(f\"len_SW : {len_SW}\")\n",
    "print(f\"len_SE : {len_SE}\")"
   ]
  },
  {
   "cell_type": "markdown",
   "metadata": {},
   "source": [
    "To complete points in NE region:"
   ]
  },
  {
   "cell_type": "code",
   "execution_count": 9,
   "metadata": {},
   "outputs": [],
   "source": [
    "with open(\"NE_Complete.json\", \"r\") as file:\n",
    "    NE_Completoin_data = json.load(file)"
   ]
  },
  {
   "cell_type": "code",
   "execution_count": 10,
   "metadata": {},
   "outputs": [],
   "source": [
    "NE_Completion = list()\n",
    "\n",
    "for feature in NE_Completoin_data[\"features\"]:\n",
    "    NE_Completion.append(feature[\"geometry\"][\"coordinates\"][:])\n",
    "\n",
    "NE_Completion = [element for sublist in NE_Completion for element in sublist]"
   ]
  },
  {
   "cell_type": "code",
   "execution_count": 11,
   "metadata": {},
   "outputs": [],
   "source": [
    "NE_Completion = pd.DataFrame(NE_Completion, columns=[\"lng\", \"lat\"])"
   ]
  },
  {
   "cell_type": "code",
   "execution_count": 12,
   "metadata": {},
   "outputs": [
    {
     "data": {
      "text/plain": [
       "923"
      ]
     },
     "execution_count": 12,
     "metadata": {},
     "output_type": "execute_result"
    }
   ],
   "source": [
    "len(NE_Completion)"
   ]
  },
  {
   "cell_type": "code",
   "execution_count": 13,
   "metadata": {},
   "outputs": [
    {
     "data": {
      "text/html": [
       "<div>\n",
       "<style scoped>\n",
       "    .dataframe tbody tr th:only-of-type {\n",
       "        vertical-align: middle;\n",
       "    }\n",
       "\n",
       "    .dataframe tbody tr th {\n",
       "        vertical-align: top;\n",
       "    }\n",
       "\n",
       "    .dataframe thead th {\n",
       "        text-align: right;\n",
       "    }\n",
       "</style>\n",
       "<table border=\"1\" class=\"dataframe\">\n",
       "  <thead>\n",
       "    <tr style=\"text-align: right;\">\n",
       "      <th></th>\n",
       "      <th>lng</th>\n",
       "      <th>lat</th>\n",
       "    </tr>\n",
       "  </thead>\n",
       "  <tbody>\n",
       "    <tr>\n",
       "      <th>0</th>\n",
       "      <td>60.551479</td>\n",
       "      <td>33.640504</td>\n",
       "    </tr>\n",
       "    <tr>\n",
       "      <th>1</th>\n",
       "      <td>60.551331</td>\n",
       "      <td>33.643335</td>\n",
       "    </tr>\n",
       "    <tr>\n",
       "      <th>2</th>\n",
       "      <td>60.551035</td>\n",
       "      <td>33.645919</td>\n",
       "    </tr>\n",
       "    <tr>\n",
       "      <th>3</th>\n",
       "      <td>60.551183</td>\n",
       "      <td>33.648627</td>\n",
       "    </tr>\n",
       "    <tr>\n",
       "      <th>4</th>\n",
       "      <td>60.551183</td>\n",
       "      <td>33.651580</td>\n",
       "    </tr>\n",
       "  </tbody>\n",
       "</table>\n",
       "</div>"
      ],
      "text/plain": [
       "         lng        lat\n",
       "0  60.551479  33.640504\n",
       "1  60.551331  33.643335\n",
       "2  60.551035  33.645919\n",
       "3  60.551183  33.648627\n",
       "4  60.551183  33.651580"
      ]
     },
     "execution_count": 13,
     "metadata": {},
     "output_type": "execute_result"
    }
   ],
   "source": [
    "NE_Completion.head()"
   ]
  },
  {
   "cell_type": "markdown",
   "metadata": {},
   "source": [
    "To complete points in NW region:"
   ]
  },
  {
   "cell_type": "code",
   "execution_count": 14,
   "metadata": {},
   "outputs": [],
   "source": [
    "with open(\"NW_Complete.json\", \"r\") as file:\n",
    "    NW_Completoin_data = json.load(file)"
   ]
  },
  {
   "cell_type": "code",
   "execution_count": 15,
   "metadata": {},
   "outputs": [],
   "source": [
    "NW_Completion = list()\n",
    "\n",
    "for feature in NW_Completoin_data[\"features\"]:\n",
    "    NW_Completion.append(feature[\"geometry\"][\"coordinates\"][:])\n",
    "\n",
    "NW_Completion = [element for sublist in NW_Completion for element in sublist]"
   ]
  },
  {
   "cell_type": "code",
   "execution_count": 16,
   "metadata": {},
   "outputs": [],
   "source": [
    "NW_Completion = pd.DataFrame(NW_Completion, columns=[\"lng\", \"lat\"])"
   ]
  },
  {
   "cell_type": "code",
   "execution_count": 17,
   "metadata": {},
   "outputs": [
    {
     "data": {
      "text/plain": [
       "552"
      ]
     },
     "execution_count": 17,
     "metadata": {},
     "output_type": "execute_result"
    }
   ],
   "source": [
    "len(NW_Completion)"
   ]
  },
  {
   "cell_type": "code",
   "execution_count": 18,
   "metadata": {},
   "outputs": [
    {
     "data": {
      "text/html": [
       "<div>\n",
       "<style scoped>\n",
       "    .dataframe tbody tr th:only-of-type {\n",
       "        vertical-align: middle;\n",
       "    }\n",
       "\n",
       "    .dataframe tbody tr th {\n",
       "        vertical-align: top;\n",
       "    }\n",
       "\n",
       "    .dataframe thead th {\n",
       "        text-align: right;\n",
       "    }\n",
       "</style>\n",
       "<table border=\"1\" class=\"dataframe\">\n",
       "  <thead>\n",
       "    <tr style=\"text-align: right;\">\n",
       "      <th></th>\n",
       "      <th>lng</th>\n",
       "      <th>lat</th>\n",
       "    </tr>\n",
       "  </thead>\n",
       "  <tbody>\n",
       "    <tr>\n",
       "      <th>0</th>\n",
       "      <td>45.924524</td>\n",
       "      <td>33.598682</td>\n",
       "    </tr>\n",
       "    <tr>\n",
       "      <th>1</th>\n",
       "      <td>45.912369</td>\n",
       "      <td>33.620953</td>\n",
       "    </tr>\n",
       "    <tr>\n",
       "      <th>2</th>\n",
       "      <td>45.902645</td>\n",
       "      <td>33.641194</td>\n",
       "    </tr>\n",
       "    <tr>\n",
       "      <th>3</th>\n",
       "      <td>45.844300</td>\n",
       "      <td>33.627025</td>\n",
       "    </tr>\n",
       "    <tr>\n",
       "      <th>4</th>\n",
       "      <td>45.810265</td>\n",
       "      <td>33.610830</td>\n",
       "    </tr>\n",
       "  </tbody>\n",
       "</table>\n",
       "</div>"
      ],
      "text/plain": [
       "         lng        lat\n",
       "0  45.924524  33.598682\n",
       "1  45.912369  33.620953\n",
       "2  45.902645  33.641194\n",
       "3  45.844300  33.627025\n",
       "4  45.810265  33.610830"
      ]
     },
     "execution_count": 18,
     "metadata": {},
     "output_type": "execute_result"
    }
   ],
   "source": [
    "NW_Completion.head()"
   ]
  },
  {
   "cell_type": "markdown",
   "metadata": {},
   "source": [
    "To complete points in SW region:"
   ]
  },
  {
   "cell_type": "code",
   "execution_count": 19,
   "metadata": {},
   "outputs": [],
   "source": [
    "with open(\"SW_Complete.json\", \"r\") as file:\n",
    "    SW_Completoin_data = json.load(file)"
   ]
  },
  {
   "cell_type": "code",
   "execution_count": 20,
   "metadata": {},
   "outputs": [],
   "source": [
    "SW_Completion = list()\n",
    "\n",
    "for feature in SW_Completoin_data[\"features\"]:\n",
    "    SW_Completion.append(feature[\"geometry\"][\"coordinates\"][:])\n",
    "\n",
    "SW_Completion = [element for sublist in SW_Completion for element in sublist]"
   ]
  },
  {
   "cell_type": "code",
   "execution_count": 21,
   "metadata": {},
   "outputs": [],
   "source": [
    "SW_Completion = pd.DataFrame(SW_Completion, columns=[\"lng\", \"lat\"])"
   ]
  },
  {
   "cell_type": "code",
   "execution_count": 22,
   "metadata": {},
   "outputs": [
    {
     "data": {
      "text/plain": [
       "216"
      ]
     },
     "execution_count": 22,
     "metadata": {},
     "output_type": "execute_result"
    }
   ],
   "source": [
    "len(SW_Completion)"
   ]
  },
  {
   "cell_type": "code",
   "execution_count": 23,
   "metadata": {},
   "outputs": [
    {
     "data": {
      "text/html": [
       "<div>\n",
       "<style scoped>\n",
       "    .dataframe tbody tr th:only-of-type {\n",
       "        vertical-align: middle;\n",
       "    }\n",
       "\n",
       "    .dataframe tbody tr th {\n",
       "        vertical-align: top;\n",
       "    }\n",
       "\n",
       "    .dataframe thead th {\n",
       "        text-align: right;\n",
       "    }\n",
       "</style>\n",
       "<table border=\"1\" class=\"dataframe\">\n",
       "  <thead>\n",
       "    <tr style=\"text-align: right;\">\n",
       "      <th></th>\n",
       "      <th>lng</th>\n",
       "      <th>lat</th>\n",
       "    </tr>\n",
       "  </thead>\n",
       "  <tbody>\n",
       "    <tr>\n",
       "      <th>0</th>\n",
       "      <td>54.007617</td>\n",
       "      <td>26.755803</td>\n",
       "    </tr>\n",
       "    <tr>\n",
       "      <th>1</th>\n",
       "      <td>53.954357</td>\n",
       "      <td>26.735419</td>\n",
       "    </tr>\n",
       "    <tr>\n",
       "      <th>2</th>\n",
       "      <td>53.885879</td>\n",
       "      <td>26.708235</td>\n",
       "    </tr>\n",
       "    <tr>\n",
       "      <th>3</th>\n",
       "      <td>53.802184</td>\n",
       "      <td>26.721828</td>\n",
       "    </tr>\n",
       "    <tr>\n",
       "      <th>4</th>\n",
       "      <td>53.741315</td>\n",
       "      <td>26.701438</td>\n",
       "    </tr>\n",
       "  </tbody>\n",
       "</table>\n",
       "</div>"
      ],
      "text/plain": [
       "         lng        lat\n",
       "0  54.007617  26.755803\n",
       "1  53.954357  26.735419\n",
       "2  53.885879  26.708235\n",
       "3  53.802184  26.721828\n",
       "4  53.741315  26.701438"
      ]
     },
     "execution_count": 23,
     "metadata": {},
     "output_type": "execute_result"
    }
   ],
   "source": [
    "SW_Completion.head()"
   ]
  },
  {
   "cell_type": "markdown",
   "metadata": {},
   "source": [
    "To merge dataframes:"
   ]
  },
  {
   "cell_type": "code",
   "execution_count": 24,
   "metadata": {},
   "outputs": [
    {
     "data": {
      "text/html": [
       "<div>\n",
       "<style scoped>\n",
       "    .dataframe tbody tr th:only-of-type {\n",
       "        vertical-align: middle;\n",
       "    }\n",
       "\n",
       "    .dataframe tbody tr th {\n",
       "        vertical-align: top;\n",
       "    }\n",
       "\n",
       "    .dataframe thead th {\n",
       "        text-align: right;\n",
       "    }\n",
       "</style>\n",
       "<table border=\"1\" class=\"dataframe\">\n",
       "  <thead>\n",
       "    <tr style=\"text-align: right;\">\n",
       "      <th></th>\n",
       "      <th>lng</th>\n",
       "      <th>lat</th>\n",
       "    </tr>\n",
       "  </thead>\n",
       "  <tbody>\n",
       "    <tr>\n",
       "      <th>0</th>\n",
       "      <td>48.613949</td>\n",
       "      <td>29.928497</td>\n",
       "    </tr>\n",
       "    <tr>\n",
       "      <th>1</th>\n",
       "      <td>48.621193</td>\n",
       "      <td>29.934804</td>\n",
       "    </tr>\n",
       "    <tr>\n",
       "      <th>2</th>\n",
       "      <td>48.624422</td>\n",
       "      <td>29.934589</td>\n",
       "    </tr>\n",
       "    <tr>\n",
       "      <th>3</th>\n",
       "      <td>48.630881</td>\n",
       "      <td>29.932651</td>\n",
       "    </tr>\n",
       "    <tr>\n",
       "      <th>4</th>\n",
       "      <td>48.640818</td>\n",
       "      <td>29.932005</td>\n",
       "    </tr>\n",
       "    <tr>\n",
       "      <th>...</th>\n",
       "      <td>...</td>\n",
       "      <td>...</td>\n",
       "    </tr>\n",
       "    <tr>\n",
       "      <th>3970</th>\n",
       "      <td>46.169003</td>\n",
       "      <td>33.069856</td>\n",
       "    </tr>\n",
       "    <tr>\n",
       "      <th>3971</th>\n",
       "      <td>45.866036</td>\n",
       "      <td>33.496451</td>\n",
       "    </tr>\n",
       "    <tr>\n",
       "      <th>3972</th>\n",
       "      <td>45.946185</td>\n",
       "      <td>33.548421</td>\n",
       "    </tr>\n",
       "    <tr>\n",
       "      <th>3973</th>\n",
       "      <td>45.913532</td>\n",
       "      <td>33.630024</td>\n",
       "    </tr>\n",
       "    <tr>\n",
       "      <th>3974</th>\n",
       "      <td>46.575502</td>\n",
       "      <td>32.865406</td>\n",
       "    </tr>\n",
       "  </tbody>\n",
       "</table>\n",
       "<p>3975 rows × 2 columns</p>\n",
       "</div>"
      ],
      "text/plain": [
       "            lng        lat\n",
       "0     48.613949  29.928497\n",
       "1     48.621193  29.934804\n",
       "2     48.624422  29.934589\n",
       "3     48.630881  29.932651\n",
       "4     48.640818  29.932005\n",
       "...         ...        ...\n",
       "3970  46.169003  33.069856\n",
       "3971  45.866036  33.496451\n",
       "3972  45.946185  33.548421\n",
       "3973  45.913532  33.630024\n",
       "3974  46.575502  32.865406\n",
       "\n",
       "[3975 rows x 2 columns]"
      ]
     },
     "execution_count": 24,
     "metadata": {},
     "output_type": "execute_result"
    }
   ],
   "source": [
    "points = pd.concat([points, NE_Completion, NW_Completion, SW_Completion], ignore_index=True)\n",
    "points"
   ]
  },
  {
   "cell_type": "markdown",
   "metadata": {},
   "source": [
    "Obtain destribution of points in each of four coordinate regions one more time:"
   ]
  },
  {
   "cell_type": "code",
   "execution_count": 25,
   "metadata": {},
   "outputs": [
    {
     "name": "stdout",
     "output_type": "stream",
     "text": [
      "len_NE : 1017\n",
      "len_NW : 1000\n",
      "len_SW : 963\n",
      "len_SE : 995\n"
     ]
    }
   ],
   "source": [
    "len_NE = len(points.loc[(points[\"lat\"] > Ilam_lat) & (points[\"lng\"] > Sari_lng)])\n",
    "len_NW = len(points.loc[(points[\"lat\"] > Ilam_lat) & (points[\"lng\"] < Sari_lng)])\n",
    "len_SW = len(points.loc[(points[\"lat\"] < Ilam_lat) & (points[\"lng\"] < Sari_lng)])\n",
    "len_SE = len(points.loc[(points[\"lat\"] < Ilam_lat) & (points[\"lng\"] > Sari_lng)])\n",
    "print(f\"len_NE : {len_NE}\")\n",
    "print(f\"len_NW : {len_NW}\")\n",
    "print(f\"len_SW : {len_SW}\")\n",
    "print(f\"len_SE : {len_SE}\")"
   ]
  },
  {
   "cell_type": "markdown",
   "metadata": {},
   "source": [
    "Optimization and searching for the exact center of Iran:"
   ]
  },
  {
   "cell_type": "code",
   "execution_count": 26,
   "metadata": {},
   "outputs": [],
   "source": [
    "lng_min = 49.781853529617024\n",
    "lng_max = 58.37602322566812\n",
    "lat_min = 29.235933551806966\n",
    "lat_max = 35.393730146031245"
   ]
  },
  {
   "cell_type": "code",
   "execution_count": 27,
   "metadata": {},
   "outputs": [],
   "source": [
    "points_copy = points.copy()"
   ]
  },
  {
   "cell_type": "code",
   "execution_count": 38,
   "metadata": {},
   "outputs": [],
   "source": [
    "center_candidates = []\n",
    "lat_candidate = 0\n",
    "lng_candidate = 0"
   ]
  },
  {
   "cell_type": "code",
   "execution_count": 39,
   "metadata": {},
   "outputs": [
    {
     "ename": "NameError",
     "evalue": "name 'lat_candidate' is not defined",
     "output_type": "error",
     "traceback": [
      "\u001b[1;31m---------------------------------------------------------------------------\u001b[0m",
      "\u001b[1;31mNameError\u001b[0m                                 Traceback (most recent call last)",
      "Cell \u001b[1;32mIn[39], line 13\u001b[0m\n\u001b[0;32m     11\u001b[0m             lat_candidate \u001b[39m=\u001b[39m lat\n\u001b[0;32m     12\u001b[0m             lng_candidate \u001b[39m=\u001b[39m lng\n\u001b[1;32m---> 13\u001b[0m center_candidates\u001b[39m.\u001b[39mappend([lat_candidate, lng_candidate])\n\u001b[0;32m     14\u001b[0m step \u001b[39m/\u001b[39m\u001b[39m=\u001b[39m \u001b[39m10\u001b[39m\n",
      "\u001b[1;31mNameError\u001b[0m: name 'lat_candidate' is not defined"
     ]
    }
   ],
   "source": [
    "step = 5\n",
    "min_variance = 145231.6822812455\n",
    "\n",
    "while step > 0.00000000000001:\n",
    "    for lng in np.arange(lng_min, lng_max, step):\n",
    "        for lat in np.arange(lat_min, lat_max, step):\n",
    "            points[\"distances\"] = points.apply(lambda row: great_circle((row[\"lat\"], row[\"lng\"]), (lat_min, lng_min)).kilometers, axis=1)        # calculate variance\n",
    "            variance = points[\"distances\"].var(ddof=0)\n",
    "            if variance < min_variance:\n",
    "                min_variance = variance\n",
    "                lat_candidate = lat\n",
    "                lng_candidate = lng\n",
    "    center_candidates.append([lat_candidate, lng_candidate])\n",
    "    step /= 10\n"
   ]
  },
  {
   "cell_type": "code",
   "execution_count": 34,
   "metadata": {},
   "outputs": [],
   "source": [
    "# points[\"distances\"] = points.apply(lambda row: np.sqrt((row[\"lng\"]-lng_min)**2 + (row[\"lat\"]-lat_min)**2), axis=1)\n",
    "points[\"distances\"] = points.apply(lambda row: great_circle((row[\"lat\"], row[\"lng\"]), (lat_min, lng_min)).kilometers, axis=1)"
   ]
  },
  {
   "cell_type": "code",
   "execution_count": 34,
   "metadata": {},
   "outputs": [
    {
     "data": {
      "text/html": [
       "<div>\n",
       "<style scoped>\n",
       "    .dataframe tbody tr th:only-of-type {\n",
       "        vertical-align: middle;\n",
       "    }\n",
       "\n",
       "    .dataframe tbody tr th {\n",
       "        vertical-align: top;\n",
       "    }\n",
       "\n",
       "    .dataframe thead th {\n",
       "        text-align: right;\n",
       "    }\n",
       "</style>\n",
       "<table border=\"1\" class=\"dataframe\">\n",
       "  <thead>\n",
       "    <tr style=\"text-align: right;\">\n",
       "      <th></th>\n",
       "      <th>lng</th>\n",
       "      <th>lat</th>\n",
       "      <th>distances</th>\n",
       "    </tr>\n",
       "  </thead>\n",
       "  <tbody>\n",
       "    <tr>\n",
       "      <th>0</th>\n",
       "      <td>48.613949</td>\n",
       "      <td>29.928497</td>\n",
       "      <td>1.357809</td>\n",
       "    </tr>\n",
       "    <tr>\n",
       "      <th>1</th>\n",
       "      <td>48.621193</td>\n",
       "      <td>29.934804</td>\n",
       "      <td>1.354826</td>\n",
       "    </tr>\n",
       "    <tr>\n",
       "      <th>2</th>\n",
       "      <td>48.624422</td>\n",
       "      <td>29.934589</td>\n",
       "      <td>1.351949</td>\n",
       "    </tr>\n",
       "    <tr>\n",
       "      <th>3</th>\n",
       "      <td>48.630881</td>\n",
       "      <td>29.932651</td>\n",
       "      <td>1.345419</td>\n",
       "    </tr>\n",
       "    <tr>\n",
       "      <th>4</th>\n",
       "      <td>48.640818</td>\n",
       "      <td>29.932005</td>\n",
       "      <td>1.336592</td>\n",
       "    </tr>\n",
       "    <tr>\n",
       "      <th>...</th>\n",
       "      <td>...</td>\n",
       "      <td>...</td>\n",
       "      <td>...</td>\n",
       "    </tr>\n",
       "    <tr>\n",
       "      <th>3970</th>\n",
       "      <td>46.169003</td>\n",
       "      <td>33.069856</td>\n",
       "      <td>5.267983</td>\n",
       "    </tr>\n",
       "    <tr>\n",
       "      <th>3971</th>\n",
       "      <td>45.866036</td>\n",
       "      <td>33.496451</td>\n",
       "      <td>5.786678</td>\n",
       "    </tr>\n",
       "    <tr>\n",
       "      <th>3972</th>\n",
       "      <td>45.946185</td>\n",
       "      <td>33.548421</td>\n",
       "      <td>5.771473</td>\n",
       "    </tr>\n",
       "    <tr>\n",
       "      <th>3973</th>\n",
       "      <td>45.913532</td>\n",
       "      <td>33.630024</td>\n",
       "      <td>5.854224</td>\n",
       "    </tr>\n",
       "    <tr>\n",
       "      <th>3974</th>\n",
       "      <td>46.575502</td>\n",
       "      <td>32.865406</td>\n",
       "      <td>4.842908</td>\n",
       "    </tr>\n",
       "  </tbody>\n",
       "</table>\n",
       "<p>3975 rows × 3 columns</p>\n",
       "</div>"
      ],
      "text/plain": [
       "            lng        lat  distances\n",
       "0     48.613949  29.928497   1.357809\n",
       "1     48.621193  29.934804   1.354826\n",
       "2     48.624422  29.934589   1.351949\n",
       "3     48.630881  29.932651   1.345419\n",
       "4     48.640818  29.932005   1.336592\n",
       "...         ...        ...        ...\n",
       "3970  46.169003  33.069856   5.267983\n",
       "3971  45.866036  33.496451   5.786678\n",
       "3972  45.946185  33.548421   5.771473\n",
       "3973  45.913532  33.630024   5.854224\n",
       "3974  46.575502  32.865406   4.842908\n",
       "\n",
       "[3975 rows x 3 columns]"
      ]
     },
     "execution_count": 34,
     "metadata": {},
     "output_type": "execute_result"
    }
   ],
   "source": [
    "points"
   ]
  },
  {
   "cell_type": "code",
   "execution_count": 36,
   "metadata": {},
   "outputs": [
    {
     "data": {
      "text/plain": [
       "145231.6822812455"
      ]
     },
     "execution_count": 36,
     "metadata": {},
     "output_type": "execute_result"
    }
   ],
   "source": [
    "points[\"distances\"].var(ddof=0)"
   ]
  },
  {
   "cell_type": "code",
   "execution_count": null,
   "metadata": {},
   "outputs": [],
   "source": []
  }
 ],
 "metadata": {
  "kernelspec": {
   "display_name": "Python 3",
   "language": "python",
   "name": "python3"
  },
  "language_info": {
   "codemirror_mode": {
    "name": "ipython",
    "version": 3
   },
   "file_extension": ".py",
   "mimetype": "text/x-python",
   "name": "python",
   "nbconvert_exporter": "python",
   "pygments_lexer": "ipython3",
   "version": "3.9.18"
  },
  "orig_nbformat": 4
 },
 "nbformat": 4,
 "nbformat_minor": 2
}
