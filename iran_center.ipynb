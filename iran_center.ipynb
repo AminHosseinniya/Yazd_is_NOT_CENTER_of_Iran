{
 "cells": [
  {
   "cell_type": "code",
   "execution_count": 3,
   "metadata": {},
   "outputs": [],
   "source": [
    "import numpy as np\n",
    "import pandas as pd\n",
    "import json"
   ]
  },
  {
   "cell_type": "markdown",
   "metadata": {},
   "source": [
    "Read json file contains border points coordinates:"
   ]
  },
  {
   "cell_type": "code",
   "execution_count": 47,
   "metadata": {},
   "outputs": [],
   "source": [
    "with open(\"Border_Points.json\", \"r\") as file:\n",
    "    data = json.load(file)"
   ]
  },
  {
   "cell_type": "code",
   "execution_count": 48,
   "metadata": {},
   "outputs": [
    {
     "data": {
      "text/plain": [
       "2284"
      ]
     },
     "execution_count": 48,
     "metadata": {},
     "output_type": "execute_result"
    }
   ],
   "source": [
    "data = data[\"features\"][0][\"geometry\"][\"coordinates\"][0]\n",
    "len(data)"
   ]
  },
  {
   "cell_type": "code",
   "execution_count": 50,
   "metadata": {},
   "outputs": [],
   "source": [
    "Sari_coor   = [36.561151, 53.060088]\n",
    "Ilam_coor = [33.568375, 46.045389]"
   ]
  },
  {
   "cell_type": "code",
   "execution_count": 52,
   "metadata": {},
   "outputs": [],
   "source": [
    "Ilam_lat = Ilam_coor[0]\n",
    "Ilam_lng = Ilam_coor[1]\n",
    "Sari_lat = Sari_coor[0]\n",
    "Sari_lng = Sari_coor[1]"
   ]
  },
  {
   "cell_type": "code",
   "execution_count": 51,
   "metadata": {},
   "outputs": [
    {
     "data": {
      "text/html": [
       "<div>\n",
       "<style scoped>\n",
       "    .dataframe tbody tr th:only-of-type {\n",
       "        vertical-align: middle;\n",
       "    }\n",
       "\n",
       "    .dataframe tbody tr th {\n",
       "        vertical-align: top;\n",
       "    }\n",
       "\n",
       "    .dataframe thead th {\n",
       "        text-align: right;\n",
       "    }\n",
       "</style>\n",
       "<table border=\"1\" class=\"dataframe\">\n",
       "  <thead>\n",
       "    <tr style=\"text-align: right;\">\n",
       "      <th></th>\n",
       "      <th>lng</th>\n",
       "      <th>lat</th>\n",
       "    </tr>\n",
       "  </thead>\n",
       "  <tbody>\n",
       "    <tr>\n",
       "      <th>0</th>\n",
       "      <td>48.613949</td>\n",
       "      <td>29.928497</td>\n",
       "    </tr>\n",
       "    <tr>\n",
       "      <th>1</th>\n",
       "      <td>48.621193</td>\n",
       "      <td>29.934804</td>\n",
       "    </tr>\n",
       "    <tr>\n",
       "      <th>2</th>\n",
       "      <td>48.624422</td>\n",
       "      <td>29.934589</td>\n",
       "    </tr>\n",
       "    <tr>\n",
       "      <th>3</th>\n",
       "      <td>48.630881</td>\n",
       "      <td>29.932651</td>\n",
       "    </tr>\n",
       "    <tr>\n",
       "      <th>4</th>\n",
       "      <td>48.640818</td>\n",
       "      <td>29.932005</td>\n",
       "    </tr>\n",
       "  </tbody>\n",
       "</table>\n",
       "</div>"
      ],
      "text/plain": [
       "         lng        lat\n",
       "0  48.613949  29.928497\n",
       "1  48.621193  29.934804\n",
       "2  48.624422  29.934589\n",
       "3  48.630881  29.932651\n",
       "4  48.640818  29.932005"
      ]
     },
     "execution_count": 51,
     "metadata": {},
     "output_type": "execute_result"
    }
   ],
   "source": [
    "points = pd.DataFrame(data, columns=[\"lng\", \"lat\"])\n",
    "points.head()"
   ]
  },
  {
   "cell_type": "code",
   "execution_count": 56,
   "metadata": {},
   "outputs": [
    {
     "name": "stdout",
     "output_type": "stream",
     "text": [
      "len_NE : 94\n",
      "len_NW : 446\n",
      "len_SW : 768\n",
      "len_SE : 976\n"
     ]
    }
   ],
   "source": [
    "len_NE = len(points.loc[(points[\"lat\"] > Ilam_lat) & (points[\"lng\"] > Sari_lng)])\n",
    "len_NW = len(points.loc[(points[\"lat\"] > Ilam_lat) & (points[\"lng\"] < Sari_lng)])\n",
    "len_SW = len(points.loc[(points[\"lat\"] < Ilam_lat) & (points[\"lng\"] < Sari_lng)])\n",
    "len_SE = len(points.loc[(points[\"lat\"] < Ilam_lat) & (points[\"lng\"] > Sari_lng)])\n",
    "print(f\"len_NE : {len_NE}\")\n",
    "print(f\"len_NW : {len_NW}\")\n",
    "print(f\"len_SW : {len_SW}\")\n",
    "print(f\"len_SE : {len_SE}\")"
   ]
  },
  {
   "cell_type": "code",
   "execution_count": 57,
   "metadata": {},
   "outputs": [
    {
     "data": {
      "text/plain": [
       "2284"
      ]
     },
     "execution_count": 57,
     "metadata": {},
     "output_type": "execute_result"
    }
   ],
   "source": [
    "976 + 768 + 446 + 94"
   ]
  }
 ],
 "metadata": {
  "kernelspec": {
   "display_name": "Python 3",
   "language": "python",
   "name": "python3"
  },
  "language_info": {
   "codemirror_mode": {
    "name": "ipython",
    "version": 3
   },
   "file_extension": ".py",
   "mimetype": "text/x-python",
   "name": "python",
   "nbconvert_exporter": "python",
   "pygments_lexer": "ipython3",
   "version": "3.9.18"
  },
  "orig_nbformat": 4
 },
 "nbformat": 4,
 "nbformat_minor": 2
}
