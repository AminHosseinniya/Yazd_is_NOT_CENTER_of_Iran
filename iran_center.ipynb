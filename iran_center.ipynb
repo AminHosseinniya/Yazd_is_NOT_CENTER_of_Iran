{
 "cells": [
  {
   "cell_type": "code",
   "execution_count": 1,
   "metadata": {},
   "outputs": [],
   "source": [
    "import numpy as np\n",
    "import pandas as pd\n",
    "import json"
   ]
  },
  {
   "cell_type": "markdown",
   "metadata": {},
   "source": [
    "Read json file contains border points coordinates:"
   ]
  },
  {
   "cell_type": "code",
   "execution_count": 2,
   "metadata": {},
   "outputs": [],
   "source": [
    "with open(\"Border_Points.json\", \"r\") as file:\n",
    "    data = json.load(file)"
   ]
  },
  {
   "cell_type": "code",
   "execution_count": 3,
   "metadata": {},
   "outputs": [
    {
     "data": {
      "text/plain": [
       "2284"
      ]
     },
     "execution_count": 3,
     "metadata": {},
     "output_type": "execute_result"
    }
   ],
   "source": [
    "data = data[\"features\"][0][\"geometry\"][\"coordinates\"][0]\n",
    "len(data)"
   ]
  },
  {
   "cell_type": "markdown",
   "metadata": {},
   "source": [
    "To obtain destribution of points in each of four coordinate regions:"
   ]
  },
  {
   "cell_type": "code",
   "execution_count": 4,
   "metadata": {},
   "outputs": [],
   "source": [
    "Sari_coor   = [36.561151, 53.060088] # representing a point separates Iranian border into eastern and wertern regions\n",
    "Ilam_coor = [33.568375, 46.045389]  # represinting a point separates Iranian border into northern and southern regions"
   ]
  },
  {
   "cell_type": "code",
   "execution_count": 5,
   "metadata": {},
   "outputs": [],
   "source": [
    "Ilam_lat = Ilam_coor[0]\n",
    "Ilam_lng = Ilam_coor[1]\n",
    "Sari_lat = Sari_coor[0]\n",
    "Sari_lng = Sari_coor[1]"
   ]
  },
  {
   "cell_type": "code",
   "execution_count": 6,
   "metadata": {},
   "outputs": [
    {
     "data": {
      "text/html": [
       "<div>\n",
       "<style scoped>\n",
       "    .dataframe tbody tr th:only-of-type {\n",
       "        vertical-align: middle;\n",
       "    }\n",
       "\n",
       "    .dataframe tbody tr th {\n",
       "        vertical-align: top;\n",
       "    }\n",
       "\n",
       "    .dataframe thead th {\n",
       "        text-align: right;\n",
       "    }\n",
       "</style>\n",
       "<table border=\"1\" class=\"dataframe\">\n",
       "  <thead>\n",
       "    <tr style=\"text-align: right;\">\n",
       "      <th></th>\n",
       "      <th>lng</th>\n",
       "      <th>lat</th>\n",
       "    </tr>\n",
       "  </thead>\n",
       "  <tbody>\n",
       "    <tr>\n",
       "      <th>0</th>\n",
       "      <td>48.613949</td>\n",
       "      <td>29.928497</td>\n",
       "    </tr>\n",
       "    <tr>\n",
       "      <th>1</th>\n",
       "      <td>48.621193</td>\n",
       "      <td>29.934804</td>\n",
       "    </tr>\n",
       "    <tr>\n",
       "      <th>2</th>\n",
       "      <td>48.624422</td>\n",
       "      <td>29.934589</td>\n",
       "    </tr>\n",
       "    <tr>\n",
       "      <th>3</th>\n",
       "      <td>48.630881</td>\n",
       "      <td>29.932651</td>\n",
       "    </tr>\n",
       "    <tr>\n",
       "      <th>4</th>\n",
       "      <td>48.640818</td>\n",
       "      <td>29.932005</td>\n",
       "    </tr>\n",
       "  </tbody>\n",
       "</table>\n",
       "</div>"
      ],
      "text/plain": [
       "         lng        lat\n",
       "0  48.613949  29.928497\n",
       "1  48.621193  29.934804\n",
       "2  48.624422  29.934589\n",
       "3  48.630881  29.932651\n",
       "4  48.640818  29.932005"
      ]
     },
     "execution_count": 6,
     "metadata": {},
     "output_type": "execute_result"
    }
   ],
   "source": [
    "points = pd.DataFrame(data, columns=[\"lng\", \"lat\"])\n",
    "points.head()"
   ]
  },
  {
   "cell_type": "code",
   "execution_count": 7,
   "metadata": {},
   "outputs": [
    {
     "name": "stdout",
     "output_type": "stream",
     "text": [
      "len_NE : 94\n",
      "len_NW : 446\n",
      "len_SW : 768\n",
      "len_SE : 976\n"
     ]
    }
   ],
   "source": [
    "len_NE = len(points.loc[(points[\"lat\"] > Ilam_lat) & (points[\"lng\"] > Sari_lng)])\n",
    "len_NW = len(points.loc[(points[\"lat\"] > Ilam_lat) & (points[\"lng\"] < Sari_lng)])\n",
    "len_SW = len(points.loc[(points[\"lat\"] < Ilam_lat) & (points[\"lng\"] < Sari_lng)])\n",
    "len_SE = len(points.loc[(points[\"lat\"] < Ilam_lat) & (points[\"lng\"] > Sari_lng)])\n",
    "print(f\"len_NE : {len_NE}\")\n",
    "print(f\"len_NW : {len_NW}\")\n",
    "print(f\"len_SW : {len_SW}\")\n",
    "print(f\"len_SE : {len_SE}\")"
   ]
  },
  {
   "cell_type": "code",
   "execution_count": 8,
   "metadata": {},
   "outputs": [
    {
     "data": {
      "text/plain": [
       "882"
      ]
     },
     "execution_count": 8,
     "metadata": {},
     "output_type": "execute_result"
    }
   ],
   "source": [
    "976-94  # NE: 1017"
   ]
  },
  {
   "cell_type": "code",
   "execution_count": 9,
   "metadata": {},
   "outputs": [
    {
     "data": {
      "text/plain": [
       "530"
      ]
     },
     "execution_count": 9,
     "metadata": {},
     "output_type": "execute_result"
    }
   ],
   "source": [
    "976 - 446 # NW;"
   ]
  },
  {
   "cell_type": "code",
   "execution_count": 10,
   "metadata": {},
   "outputs": [
    {
     "data": {
      "text/plain": [
       "208"
      ]
     },
     "execution_count": 10,
     "metadata": {},
     "output_type": "execute_result"
    }
   ],
   "source": [
    "976 - 768 # SW"
   ]
  },
  {
   "cell_type": "markdown",
   "metadata": {},
   "source": [
    "To complete points in NE region:"
   ]
  },
  {
   "cell_type": "code",
   "execution_count": 11,
   "metadata": {},
   "outputs": [],
   "source": [
    "with open(\"NE_Complete.json\", \"r\") as file:\n",
    "    NE_Completoin_data = json.load(file)"
   ]
  },
  {
   "cell_type": "code",
   "execution_count": 12,
   "metadata": {},
   "outputs": [],
   "source": [
    "NE_Completion = list()\n",
    "\n",
    "for feature in NE_Completoin_data[\"features\"]:\n",
    "    NE_Completion.append(feature[\"geometry\"][\"coordinates\"][:])\n",
    "\n",
    "NE_Completion = [element for sublist in NE_Completion for element in sublist]"
   ]
  },
  {
   "cell_type": "code",
   "execution_count": 14,
   "metadata": {},
   "outputs": [
    {
     "data": {
      "text/plain": [
       "923"
      ]
     },
     "execution_count": 14,
     "metadata": {},
     "output_type": "execute_result"
    }
   ],
   "source": [
    "len(NE_Completion)"
   ]
  }
 ],
 "metadata": {
  "kernelspec": {
   "display_name": "Python 3",
   "language": "python",
   "name": "python3"
  },
  "language_info": {
   "codemirror_mode": {
    "name": "ipython",
    "version": 3
   },
   "file_extension": ".py",
   "mimetype": "text/x-python",
   "name": "python",
   "nbconvert_exporter": "python",
   "pygments_lexer": "ipython3",
   "version": "3.9.18"
  },
  "orig_nbformat": 4
 },
 "nbformat": 4,
 "nbformat_minor": 2
}
