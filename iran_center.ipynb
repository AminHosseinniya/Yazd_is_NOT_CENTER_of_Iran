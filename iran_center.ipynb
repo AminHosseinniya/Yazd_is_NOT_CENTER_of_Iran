{
 "cells": [
  {
   "cell_type": "code",
   "execution_count": 86,
   "metadata": {},
   "outputs": [],
   "source": [
    "import numpy as np\n",
    "import pandas as pd\n",
    "import json\n",
    "from geopy.distance import great_circle\n",
    "import folium\n",
    "from folium import plugins"
   ]
  },
  {
   "cell_type": "markdown",
   "metadata": {},
   "source": [
    "Read json file contains border points coordinates:"
   ]
  },
  {
   "cell_type": "code",
   "execution_count": 3,
   "metadata": {},
   "outputs": [],
   "source": [
    "with open(\"Border_Points.json\", \"r\") as file:\n",
    "    data = json.load(file)"
   ]
  },
  {
   "cell_type": "code",
   "execution_count": 4,
   "metadata": {},
   "outputs": [
    {
     "data": {
      "text/plain": [
       "2284"
      ]
     },
     "execution_count": 4,
     "metadata": {},
     "output_type": "execute_result"
    }
   ],
   "source": [
    "data = data[\"features\"][0][\"geometry\"][\"coordinates\"][0]\n",
    "len(data)"
   ]
  },
  {
   "cell_type": "markdown",
   "metadata": {},
   "source": [
    "To obtain destribution of points in each of four coordinate regions:"
   ]
  },
  {
   "cell_type": "code",
   "execution_count": 5,
   "metadata": {},
   "outputs": [],
   "source": [
    "Sari_coor   = [36.561151, 53.060088] # representing a point separates Iranian border into eastern and wertern regions\n",
    "Ilam_coor = [33.568375, 46.045389]  # represinting a point separates Iranian border into northern and southern regions"
   ]
  },
  {
   "cell_type": "code",
   "execution_count": 6,
   "metadata": {},
   "outputs": [],
   "source": [
    "Ilam_lat = Ilam_coor[0]\n",
    "Ilam_lng = Ilam_coor[1]\n",
    "Sari_lat = Sari_coor[0]\n",
    "Sari_lng = Sari_coor[1]"
   ]
  },
  {
   "cell_type": "code",
   "execution_count": 7,
   "metadata": {},
   "outputs": [
    {
     "data": {
      "text/html": [
       "<div>\n",
       "<style scoped>\n",
       "    .dataframe tbody tr th:only-of-type {\n",
       "        vertical-align: middle;\n",
       "    }\n",
       "\n",
       "    .dataframe tbody tr th {\n",
       "        vertical-align: top;\n",
       "    }\n",
       "\n",
       "    .dataframe thead th {\n",
       "        text-align: right;\n",
       "    }\n",
       "</style>\n",
       "<table border=\"1\" class=\"dataframe\">\n",
       "  <thead>\n",
       "    <tr style=\"text-align: right;\">\n",
       "      <th></th>\n",
       "      <th>lng</th>\n",
       "      <th>lat</th>\n",
       "    </tr>\n",
       "  </thead>\n",
       "  <tbody>\n",
       "    <tr>\n",
       "      <th>0</th>\n",
       "      <td>48.613949</td>\n",
       "      <td>29.928497</td>\n",
       "    </tr>\n",
       "    <tr>\n",
       "      <th>1</th>\n",
       "      <td>48.621193</td>\n",
       "      <td>29.934804</td>\n",
       "    </tr>\n",
       "    <tr>\n",
       "      <th>2</th>\n",
       "      <td>48.624422</td>\n",
       "      <td>29.934589</td>\n",
       "    </tr>\n",
       "    <tr>\n",
       "      <th>3</th>\n",
       "      <td>48.630881</td>\n",
       "      <td>29.932651</td>\n",
       "    </tr>\n",
       "    <tr>\n",
       "      <th>4</th>\n",
       "      <td>48.640818</td>\n",
       "      <td>29.932005</td>\n",
       "    </tr>\n",
       "  </tbody>\n",
       "</table>\n",
       "</div>"
      ],
      "text/plain": [
       "         lng        lat\n",
       "0  48.613949  29.928497\n",
       "1  48.621193  29.934804\n",
       "2  48.624422  29.934589\n",
       "3  48.630881  29.932651\n",
       "4  48.640818  29.932005"
      ]
     },
     "execution_count": 7,
     "metadata": {},
     "output_type": "execute_result"
    }
   ],
   "source": [
    "points = pd.DataFrame(data, columns=[\"lng\", \"lat\"])\n",
    "points.head()"
   ]
  },
  {
   "cell_type": "code",
   "execution_count": 8,
   "metadata": {},
   "outputs": [
    {
     "name": "stdout",
     "output_type": "stream",
     "text": [
      "len_NE : 94\n",
      "len_NW : 446\n",
      "len_SW : 768\n",
      "len_SE : 976\n"
     ]
    }
   ],
   "source": [
    "len_NE = len(points.loc[(points[\"lat\"] > Ilam_lat) & (points[\"lng\"] > Sari_lng)])\n",
    "len_NW = len(points.loc[(points[\"lat\"] > Ilam_lat) & (points[\"lng\"] < Sari_lng)])\n",
    "len_SW = len(points.loc[(points[\"lat\"] < Ilam_lat) & (points[\"lng\"] < Sari_lng)])\n",
    "len_SE = len(points.loc[(points[\"lat\"] < Ilam_lat) & (points[\"lng\"] > Sari_lng)])\n",
    "print(f\"len_NE : {len_NE}\")\n",
    "print(f\"len_NW : {len_NW}\")\n",
    "print(f\"len_SW : {len_SW}\")\n",
    "print(f\"len_SE : {len_SE}\")"
   ]
  },
  {
   "cell_type": "markdown",
   "metadata": {},
   "source": [
    "To complete points in NE region:"
   ]
  },
  {
   "cell_type": "code",
   "execution_count": 9,
   "metadata": {},
   "outputs": [],
   "source": [
    "with open(\"NE_Complete.json\", \"r\") as file:\n",
    "    NE_Completoin_data = json.load(file)"
   ]
  },
  {
   "cell_type": "code",
   "execution_count": 10,
   "metadata": {},
   "outputs": [],
   "source": [
    "NE_Completion = list()\n",
    "\n",
    "for feature in NE_Completoin_data[\"features\"]:\n",
    "    NE_Completion.append(feature[\"geometry\"][\"coordinates\"][:])\n",
    "\n",
    "NE_Completion = [element for sublist in NE_Completion for element in sublist]"
   ]
  },
  {
   "cell_type": "code",
   "execution_count": 11,
   "metadata": {},
   "outputs": [],
   "source": [
    "NE_Completion = pd.DataFrame(NE_Completion, columns=[\"lng\", \"lat\"])"
   ]
  },
  {
   "cell_type": "code",
   "execution_count": 12,
   "metadata": {},
   "outputs": [
    {
     "data": {
      "text/plain": [
       "923"
      ]
     },
     "execution_count": 12,
     "metadata": {},
     "output_type": "execute_result"
    }
   ],
   "source": [
    "len(NE_Completion)"
   ]
  },
  {
   "cell_type": "code",
   "execution_count": 13,
   "metadata": {},
   "outputs": [
    {
     "data": {
      "text/html": [
       "<div>\n",
       "<style scoped>\n",
       "    .dataframe tbody tr th:only-of-type {\n",
       "        vertical-align: middle;\n",
       "    }\n",
       "\n",
       "    .dataframe tbody tr th {\n",
       "        vertical-align: top;\n",
       "    }\n",
       "\n",
       "    .dataframe thead th {\n",
       "        text-align: right;\n",
       "    }\n",
       "</style>\n",
       "<table border=\"1\" class=\"dataframe\">\n",
       "  <thead>\n",
       "    <tr style=\"text-align: right;\">\n",
       "      <th></th>\n",
       "      <th>lng</th>\n",
       "      <th>lat</th>\n",
       "    </tr>\n",
       "  </thead>\n",
       "  <tbody>\n",
       "    <tr>\n",
       "      <th>0</th>\n",
       "      <td>60.551479</td>\n",
       "      <td>33.640504</td>\n",
       "    </tr>\n",
       "    <tr>\n",
       "      <th>1</th>\n",
       "      <td>60.551331</td>\n",
       "      <td>33.643335</td>\n",
       "    </tr>\n",
       "    <tr>\n",
       "      <th>2</th>\n",
       "      <td>60.551035</td>\n",
       "      <td>33.645919</td>\n",
       "    </tr>\n",
       "    <tr>\n",
       "      <th>3</th>\n",
       "      <td>60.551183</td>\n",
       "      <td>33.648627</td>\n",
       "    </tr>\n",
       "    <tr>\n",
       "      <th>4</th>\n",
       "      <td>60.551183</td>\n",
       "      <td>33.651580</td>\n",
       "    </tr>\n",
       "  </tbody>\n",
       "</table>\n",
       "</div>"
      ],
      "text/plain": [
       "         lng        lat\n",
       "0  60.551479  33.640504\n",
       "1  60.551331  33.643335\n",
       "2  60.551035  33.645919\n",
       "3  60.551183  33.648627\n",
       "4  60.551183  33.651580"
      ]
     },
     "execution_count": 13,
     "metadata": {},
     "output_type": "execute_result"
    }
   ],
   "source": [
    "NE_Completion.head()"
   ]
  },
  {
   "cell_type": "markdown",
   "metadata": {},
   "source": [
    "To complete points in NW region:"
   ]
  },
  {
   "cell_type": "code",
   "execution_count": 14,
   "metadata": {},
   "outputs": [],
   "source": [
    "with open(\"NW_Complete.json\", \"r\") as file:\n",
    "    NW_Completoin_data = json.load(file)"
   ]
  },
  {
   "cell_type": "code",
   "execution_count": 15,
   "metadata": {},
   "outputs": [],
   "source": [
    "NW_Completion = list()\n",
    "\n",
    "for feature in NW_Completoin_data[\"features\"]:\n",
    "    NW_Completion.append(feature[\"geometry\"][\"coordinates\"][:])\n",
    "\n",
    "NW_Completion = [element for sublist in NW_Completion for element in sublist]"
   ]
  },
  {
   "cell_type": "code",
   "execution_count": 16,
   "metadata": {},
   "outputs": [],
   "source": [
    "NW_Completion = pd.DataFrame(NW_Completion, columns=[\"lng\", \"lat\"])"
   ]
  },
  {
   "cell_type": "code",
   "execution_count": 17,
   "metadata": {},
   "outputs": [
    {
     "data": {
      "text/plain": [
       "552"
      ]
     },
     "execution_count": 17,
     "metadata": {},
     "output_type": "execute_result"
    }
   ],
   "source": [
    "len(NW_Completion)"
   ]
  },
  {
   "cell_type": "code",
   "execution_count": 18,
   "metadata": {},
   "outputs": [
    {
     "data": {
      "text/html": [
       "<div>\n",
       "<style scoped>\n",
       "    .dataframe tbody tr th:only-of-type {\n",
       "        vertical-align: middle;\n",
       "    }\n",
       "\n",
       "    .dataframe tbody tr th {\n",
       "        vertical-align: top;\n",
       "    }\n",
       "\n",
       "    .dataframe thead th {\n",
       "        text-align: right;\n",
       "    }\n",
       "</style>\n",
       "<table border=\"1\" class=\"dataframe\">\n",
       "  <thead>\n",
       "    <tr style=\"text-align: right;\">\n",
       "      <th></th>\n",
       "      <th>lng</th>\n",
       "      <th>lat</th>\n",
       "    </tr>\n",
       "  </thead>\n",
       "  <tbody>\n",
       "    <tr>\n",
       "      <th>0</th>\n",
       "      <td>45.924524</td>\n",
       "      <td>33.598682</td>\n",
       "    </tr>\n",
       "    <tr>\n",
       "      <th>1</th>\n",
       "      <td>45.912369</td>\n",
       "      <td>33.620953</td>\n",
       "    </tr>\n",
       "    <tr>\n",
       "      <th>2</th>\n",
       "      <td>45.902645</td>\n",
       "      <td>33.641194</td>\n",
       "    </tr>\n",
       "    <tr>\n",
       "      <th>3</th>\n",
       "      <td>45.844300</td>\n",
       "      <td>33.627025</td>\n",
       "    </tr>\n",
       "    <tr>\n",
       "      <th>4</th>\n",
       "      <td>45.810265</td>\n",
       "      <td>33.610830</td>\n",
       "    </tr>\n",
       "  </tbody>\n",
       "</table>\n",
       "</div>"
      ],
      "text/plain": [
       "         lng        lat\n",
       "0  45.924524  33.598682\n",
       "1  45.912369  33.620953\n",
       "2  45.902645  33.641194\n",
       "3  45.844300  33.627025\n",
       "4  45.810265  33.610830"
      ]
     },
     "execution_count": 18,
     "metadata": {},
     "output_type": "execute_result"
    }
   ],
   "source": [
    "NW_Completion.head()"
   ]
  },
  {
   "cell_type": "markdown",
   "metadata": {},
   "source": [
    "To complete points in SW region:"
   ]
  },
  {
   "cell_type": "code",
   "execution_count": 19,
   "metadata": {},
   "outputs": [],
   "source": [
    "with open(\"SW_Complete.json\", \"r\") as file:\n",
    "    SW_Completoin_data = json.load(file)"
   ]
  },
  {
   "cell_type": "code",
   "execution_count": 20,
   "metadata": {},
   "outputs": [],
   "source": [
    "SW_Completion = list()\n",
    "\n",
    "for feature in SW_Completoin_data[\"features\"]:\n",
    "    SW_Completion.append(feature[\"geometry\"][\"coordinates\"][:])\n",
    "\n",
    "SW_Completion = [element for sublist in SW_Completion for element in sublist]"
   ]
  },
  {
   "cell_type": "code",
   "execution_count": 21,
   "metadata": {},
   "outputs": [],
   "source": [
    "SW_Completion = pd.DataFrame(SW_Completion, columns=[\"lng\", \"lat\"])"
   ]
  },
  {
   "cell_type": "code",
   "execution_count": 22,
   "metadata": {},
   "outputs": [
    {
     "data": {
      "text/plain": [
       "216"
      ]
     },
     "execution_count": 22,
     "metadata": {},
     "output_type": "execute_result"
    }
   ],
   "source": [
    "len(SW_Completion)"
   ]
  },
  {
   "cell_type": "code",
   "execution_count": 23,
   "metadata": {},
   "outputs": [
    {
     "data": {
      "text/html": [
       "<div>\n",
       "<style scoped>\n",
       "    .dataframe tbody tr th:only-of-type {\n",
       "        vertical-align: middle;\n",
       "    }\n",
       "\n",
       "    .dataframe tbody tr th {\n",
       "        vertical-align: top;\n",
       "    }\n",
       "\n",
       "    .dataframe thead th {\n",
       "        text-align: right;\n",
       "    }\n",
       "</style>\n",
       "<table border=\"1\" class=\"dataframe\">\n",
       "  <thead>\n",
       "    <tr style=\"text-align: right;\">\n",
       "      <th></th>\n",
       "      <th>lng</th>\n",
       "      <th>lat</th>\n",
       "    </tr>\n",
       "  </thead>\n",
       "  <tbody>\n",
       "    <tr>\n",
       "      <th>0</th>\n",
       "      <td>54.007617</td>\n",
       "      <td>26.755803</td>\n",
       "    </tr>\n",
       "    <tr>\n",
       "      <th>1</th>\n",
       "      <td>53.954357</td>\n",
       "      <td>26.735419</td>\n",
       "    </tr>\n",
       "    <tr>\n",
       "      <th>2</th>\n",
       "      <td>53.885879</td>\n",
       "      <td>26.708235</td>\n",
       "    </tr>\n",
       "    <tr>\n",
       "      <th>3</th>\n",
       "      <td>53.802184</td>\n",
       "      <td>26.721828</td>\n",
       "    </tr>\n",
       "    <tr>\n",
       "      <th>4</th>\n",
       "      <td>53.741315</td>\n",
       "      <td>26.701438</td>\n",
       "    </tr>\n",
       "  </tbody>\n",
       "</table>\n",
       "</div>"
      ],
      "text/plain": [
       "         lng        lat\n",
       "0  54.007617  26.755803\n",
       "1  53.954357  26.735419\n",
       "2  53.885879  26.708235\n",
       "3  53.802184  26.721828\n",
       "4  53.741315  26.701438"
      ]
     },
     "execution_count": 23,
     "metadata": {},
     "output_type": "execute_result"
    }
   ],
   "source": [
    "SW_Completion.head()"
   ]
  },
  {
   "cell_type": "markdown",
   "metadata": {},
   "source": [
    "To merge dataframes:"
   ]
  },
  {
   "cell_type": "code",
   "execution_count": 24,
   "metadata": {},
   "outputs": [
    {
     "data": {
      "text/html": [
       "<div>\n",
       "<style scoped>\n",
       "    .dataframe tbody tr th:only-of-type {\n",
       "        vertical-align: middle;\n",
       "    }\n",
       "\n",
       "    .dataframe tbody tr th {\n",
       "        vertical-align: top;\n",
       "    }\n",
       "\n",
       "    .dataframe thead th {\n",
       "        text-align: right;\n",
       "    }\n",
       "</style>\n",
       "<table border=\"1\" class=\"dataframe\">\n",
       "  <thead>\n",
       "    <tr style=\"text-align: right;\">\n",
       "      <th></th>\n",
       "      <th>lng</th>\n",
       "      <th>lat</th>\n",
       "    </tr>\n",
       "  </thead>\n",
       "  <tbody>\n",
       "    <tr>\n",
       "      <th>0</th>\n",
       "      <td>48.613949</td>\n",
       "      <td>29.928497</td>\n",
       "    </tr>\n",
       "    <tr>\n",
       "      <th>1</th>\n",
       "      <td>48.621193</td>\n",
       "      <td>29.934804</td>\n",
       "    </tr>\n",
       "    <tr>\n",
       "      <th>2</th>\n",
       "      <td>48.624422</td>\n",
       "      <td>29.934589</td>\n",
       "    </tr>\n",
       "    <tr>\n",
       "      <th>3</th>\n",
       "      <td>48.630881</td>\n",
       "      <td>29.932651</td>\n",
       "    </tr>\n",
       "    <tr>\n",
       "      <th>4</th>\n",
       "      <td>48.640818</td>\n",
       "      <td>29.932005</td>\n",
       "    </tr>\n",
       "    <tr>\n",
       "      <th>...</th>\n",
       "      <td>...</td>\n",
       "      <td>...</td>\n",
       "    </tr>\n",
       "    <tr>\n",
       "      <th>3970</th>\n",
       "      <td>46.169003</td>\n",
       "      <td>33.069856</td>\n",
       "    </tr>\n",
       "    <tr>\n",
       "      <th>3971</th>\n",
       "      <td>45.866036</td>\n",
       "      <td>33.496451</td>\n",
       "    </tr>\n",
       "    <tr>\n",
       "      <th>3972</th>\n",
       "      <td>45.946185</td>\n",
       "      <td>33.548421</td>\n",
       "    </tr>\n",
       "    <tr>\n",
       "      <th>3973</th>\n",
       "      <td>45.913532</td>\n",
       "      <td>33.630024</td>\n",
       "    </tr>\n",
       "    <tr>\n",
       "      <th>3974</th>\n",
       "      <td>46.575502</td>\n",
       "      <td>32.865406</td>\n",
       "    </tr>\n",
       "  </tbody>\n",
       "</table>\n",
       "<p>3975 rows × 2 columns</p>\n",
       "</div>"
      ],
      "text/plain": [
       "            lng        lat\n",
       "0     48.613949  29.928497\n",
       "1     48.621193  29.934804\n",
       "2     48.624422  29.934589\n",
       "3     48.630881  29.932651\n",
       "4     48.640818  29.932005\n",
       "...         ...        ...\n",
       "3970  46.169003  33.069856\n",
       "3971  45.866036  33.496451\n",
       "3972  45.946185  33.548421\n",
       "3973  45.913532  33.630024\n",
       "3974  46.575502  32.865406\n",
       "\n",
       "[3975 rows x 2 columns]"
      ]
     },
     "execution_count": 24,
     "metadata": {},
     "output_type": "execute_result"
    }
   ],
   "source": [
    "points = pd.concat([points, NE_Completion, NW_Completion, SW_Completion], ignore_index=True)\n",
    "points"
   ]
  },
  {
   "cell_type": "markdown",
   "metadata": {},
   "source": [
    "Obtain destribution of points in each of four coordinate regions one more time:"
   ]
  },
  {
   "cell_type": "code",
   "execution_count": 25,
   "metadata": {},
   "outputs": [
    {
     "name": "stdout",
     "output_type": "stream",
     "text": [
      "len_NE : 1017\n",
      "len_NW : 1000\n",
      "len_SW : 963\n",
      "len_SE : 995\n"
     ]
    }
   ],
   "source": [
    "len_NE = len(points.loc[(points[\"lat\"] > Ilam_lat) & (points[\"lng\"] > Sari_lng)])\n",
    "len_NW = len(points.loc[(points[\"lat\"] > Ilam_lat) & (points[\"lng\"] < Sari_lng)])\n",
    "len_SW = len(points.loc[(points[\"lat\"] < Ilam_lat) & (points[\"lng\"] < Sari_lng)])\n",
    "len_SE = len(points.loc[(points[\"lat\"] < Ilam_lat) & (points[\"lng\"] > Sari_lng)])\n",
    "print(f\"len_NE : {len_NE}\")\n",
    "print(f\"len_NW : {len_NW}\")\n",
    "print(f\"len_SW : {len_SW}\")\n",
    "print(f\"len_SE : {len_SE}\")"
   ]
  },
  {
   "cell_type": "markdown",
   "metadata": {},
   "source": [
    "Optimization and searching for the exact center of Iran:"
   ]
  },
  {
   "cell_type": "code",
   "execution_count": 66,
   "metadata": {},
   "outputs": [],
   "source": [
    "lng_min = 49.781853529617024\n",
    "lng_max = 58.37602322566812\n",
    "lat_min = 29.235933551806966\n",
    "lat_max = 35.393730146031245"
   ]
  },
  {
   "cell_type": "code",
   "execution_count": 67,
   "metadata": {},
   "outputs": [],
   "source": [
    "points_copy = points.copy()"
   ]
  },
  {
   "cell_type": "code",
   "execution_count": 68,
   "metadata": {},
   "outputs": [],
   "source": [
    "center_candidates = []\n",
    "lat_candidate = 0\n",
    "lng_candidate = 0"
   ]
  },
  {
   "cell_type": "code",
   "execution_count": 69,
   "metadata": {},
   "outputs": [
    {
     "name": "stdout",
     "output_type": "stream",
     "text": [
      "5\n",
      "34.235933551806966\n",
      "54.781853529617024\n",
      "=======\n",
      "0.5\n",
      "31.735933551806966\n",
      "54.781853529617024\n",
      "=======\n",
      "0.05\n",
      "31.835933551806974\n",
      "54.731853529617\n",
      "=======\n",
      "0.005\n",
      "31.830933551806964\n",
      "54.73685352961703\n",
      "=======\n",
      "0.0005\n",
      "31.83193355180695\n",
      "54.73835352961706\n",
      "=======\n",
      "5e-05\n",
      "31.831883551806968\n",
      "54.738453529617075\n",
      "=======\n",
      "5e-06\n",
      "31.831893551806985\n",
      "54.73842852961708\n",
      "=======\n",
      "5.000000000000001e-07\n",
      "31.831892051806975\n",
      "54.738429529617065\n",
      "=======\n",
      "5.000000000000001e-08\n",
      "31.83189205180698\n",
      "54.73842942961704\n",
      "=======\n",
      "5.000000000000001e-09\n",
      "31.831892051806985\n",
      "54.73842941961702\n",
      "=======\n",
      "5.000000000000001e-10\n",
      "31.831892051806985\n",
      "54.73842941961702\n",
      "=======\n",
      "5.0000000000000015e-11\n",
      "31.831892051806985\n",
      "54.73842941961702\n",
      "=======\n",
      "5.000000000000001e-12\n",
      "31.831892051806985\n",
      "54.73842941961702\n",
      "=======\n",
      "5.000000000000001e-13\n",
      "31.831892051806985\n",
      "54.73842941961702\n",
      "=======\n",
      "5.000000000000001e-14\n",
      "31.831892051806985\n",
      "54.73842941961702\n",
      "=======\n"
     ]
    }
   ],
   "source": [
    "step = 5\n",
    "min_variance = 145231.6822812455\n",
    "\n",
    "while step > 0.00000000000001:\n",
    "    print(step)\n",
    "    for lng in np.arange(lng_min, lng_max, step):\n",
    "        for lat in np.arange(lat_min, lat_max, step):\n",
    "            points[\"distances\"] = points.apply(lambda row: great_circle((row[\"lat\"], row[\"lng\"]), (lat, lng)).kilometers, axis=1)        # calculate variance\n",
    "            variance = points[\"distances\"].var(ddof=0)\n",
    "            if variance < min_variance:\n",
    "                min_variance = variance\n",
    "                lat_candidate = lat\n",
    "                lng_candidate = lng\n",
    "\n",
    "    center_candidates.append([lat_candidate, lng_candidate])\n",
    "    # Lowering search area:                \n",
    "    lat_min = lat_candidate - step\n",
    "    lat_max = lat_candidate + step\n",
    "    lng_min = lng_candidate - step\n",
    "    lng_max = lng_candidate + step\n",
    "    step /= 10\n",
    "\n",
    "    print(lat_candidate)\n",
    "    print(lng_candidate)\n",
    "    print(7*\"=\")\n"
   ]
  },
  {
   "cell_type": "code",
   "execution_count": 81,
   "metadata": {},
   "outputs": [
    {
     "data": {
      "text/plain": [
       "15"
      ]
     },
     "execution_count": 81,
     "metadata": {},
     "output_type": "execute_result"
    }
   ],
   "source": [
    "len(center_candidates)"
   ]
  },
  {
   "cell_type": "markdown",
   "metadata": {},
   "source": [
    "To show points on map:\n"
   ]
  },
  {
   "cell_type": "code",
   "execution_count": 97,
   "metadata": {},
   "outputs": [
    {
     "data": {
      "text/html": [
       "<div style=\"width:100%;\"><div style=\"position:relative;width:100%;height:0;padding-bottom:60%;\"><span style=\"color:#565656\">Make this Notebook Trusted to load map: File -> Trust Notebook</span><iframe srcdoc=\"&lt;!DOCTYPE html&gt;\n",
       "&lt;html&gt;\n",
       "&lt;head&gt;\n",
       "    \n",
       "    &lt;meta http-equiv=&quot;content-type&quot; content=&quot;text/html; charset=UTF-8&quot; /&gt;\n",
       "    \n",
       "        &lt;script&gt;\n",
       "            L_NO_TOUCH = false;\n",
       "            L_DISABLE_3D = false;\n",
       "        &lt;/script&gt;\n",
       "    \n",
       "    &lt;style&gt;html, body {width: 100%;height: 100%;margin: 0;padding: 0;}&lt;/style&gt;\n",
       "    &lt;style&gt;#map {position:absolute;top:0;bottom:0;right:0;left:0;}&lt;/style&gt;\n",
       "    &lt;script src=&quot;https://cdn.jsdelivr.net/npm/leaflet@1.9.3/dist/leaflet.js&quot;&gt;&lt;/script&gt;\n",
       "    &lt;script src=&quot;https://code.jquery.com/jquery-1.12.4.min.js&quot;&gt;&lt;/script&gt;\n",
       "    &lt;script src=&quot;https://cdn.jsdelivr.net/npm/bootstrap@5.2.2/dist/js/bootstrap.bundle.min.js&quot;&gt;&lt;/script&gt;\n",
       "    &lt;script src=&quot;https://cdnjs.cloudflare.com/ajax/libs/Leaflet.awesome-markers/2.0.2/leaflet.awesome-markers.js&quot;&gt;&lt;/script&gt;\n",
       "    &lt;link rel=&quot;stylesheet&quot; href=&quot;https://cdn.jsdelivr.net/npm/leaflet@1.9.3/dist/leaflet.css&quot;/&gt;\n",
       "    &lt;link rel=&quot;stylesheet&quot; href=&quot;https://cdn.jsdelivr.net/npm/bootstrap@5.2.2/dist/css/bootstrap.min.css&quot;/&gt;\n",
       "    &lt;link rel=&quot;stylesheet&quot; href=&quot;https://netdna.bootstrapcdn.com/bootstrap/3.0.0/css/bootstrap.min.css&quot;/&gt;\n",
       "    &lt;link rel=&quot;stylesheet&quot; href=&quot;https://cdn.jsdelivr.net/npm/@fortawesome/fontawesome-free@6.2.0/css/all.min.css&quot;/&gt;\n",
       "    &lt;link rel=&quot;stylesheet&quot; href=&quot;https://cdnjs.cloudflare.com/ajax/libs/Leaflet.awesome-markers/2.0.2/leaflet.awesome-markers.css&quot;/&gt;\n",
       "    &lt;link rel=&quot;stylesheet&quot; href=&quot;https://cdn.jsdelivr.net/gh/python-visualization/folium/folium/templates/leaflet.awesome.rotate.min.css&quot;/&gt;\n",
       "    \n",
       "            &lt;meta name=&quot;viewport&quot; content=&quot;width=device-width,\n",
       "                initial-scale=1.0, maximum-scale=1.0, user-scalable=no&quot; /&gt;\n",
       "            &lt;style&gt;\n",
       "                #map_3818ad2b4da7eb4507e72e4db471d6c9 {\n",
       "                    position: relative;\n",
       "                    width: 100.0%;\n",
       "                    height: 100.0%;\n",
       "                    left: 0.0%;\n",
       "                    top: 0.0%;\n",
       "                }\n",
       "                .leaflet-container { font-size: 1rem; }\n",
       "            &lt;/style&gt;\n",
       "        \n",
       "    &lt;script src=&quot;https://cdn.jsdelivr.net/gh/marslan390/BeautifyMarker/leaflet-beautify-marker-icon.min.js&quot;&gt;&lt;/script&gt;\n",
       "    &lt;link rel=&quot;stylesheet&quot; href=&quot;https://cdn.jsdelivr.net/gh/marslan390/BeautifyMarker/leaflet-beautify-marker-icon.min.css&quot;/&gt;\n",
       "&lt;/head&gt;\n",
       "&lt;body&gt;\n",
       "    \n",
       "    \n",
       "            &lt;div class=&quot;folium-map&quot; id=&quot;map_3818ad2b4da7eb4507e72e4db471d6c9&quot; &gt;&lt;/div&gt;\n",
       "        \n",
       "&lt;/body&gt;\n",
       "&lt;script&gt;\n",
       "    \n",
       "    \n",
       "            var map_3818ad2b4da7eb4507e72e4db471d6c9 = L.map(\n",
       "                &quot;map_3818ad2b4da7eb4507e72e4db471d6c9&quot;,\n",
       "                {\n",
       "                    center: [34.235933551806966, 54.781853529617024],\n",
       "                    crs: L.CRS.EPSG3857,\n",
       "                    zoom: 6,\n",
       "                    zoomControl: true,\n",
       "                    preferCanvas: false,\n",
       "                }\n",
       "            );\n",
       "\n",
       "            \n",
       "\n",
       "        \n",
       "    \n",
       "            var tile_layer_33518b61a29bf0a5110aee8282b3e22a = L.tileLayer(\n",
       "                &quot;https://{s}.tile.openstreetmap.org/{z}/{x}/{y}.png&quot;,\n",
       "                {&quot;attribution&quot;: &quot;Data by \\u0026copy; \\u003ca target=\\&quot;_blank\\&quot; href=\\&quot;http://openstreetmap.org\\&quot;\\u003eOpenStreetMap\\u003c/a\\u003e, under \\u003ca target=\\&quot;_blank\\&quot; href=\\&quot;http://www.openstreetmap.org/copyright\\&quot;\\u003eODbL\\u003c/a\\u003e.&quot;, &quot;detectRetina&quot;: false, &quot;maxNativeZoom&quot;: 18, &quot;maxZoom&quot;: 18, &quot;minZoom&quot;: 0, &quot;noWrap&quot;: false, &quot;opacity&quot;: 1, &quot;subdomains&quot;: &quot;abc&quot;, &quot;tms&quot;: false}\n",
       "            ).addTo(map_3818ad2b4da7eb4507e72e4db471d6c9);\n",
       "        \n",
       "    \n",
       "            var marker_b7d4f931cb0922e689f66ac373189aa7 = L.marker(\n",
       "                [34.235933551806966, 54.781853529617024],\n",
       "                {}\n",
       "            ).addTo(map_3818ad2b4da7eb4507e72e4db471d6c9);\n",
       "        \n",
       "    \n",
       "            var beautify_icon_57a9ed0fbc4847a61ab1aae34c8cb8a9 = new L.BeautifyIcon.icon(\n",
       "                {&quot;backgroundColor&quot;: &quot;#FFF&quot;, &quot;borderColor&quot;: &quot;black&quot;, &quot;borderWidth&quot;: 3, &quot;icon&quot;: 0, &quot;iconShape&quot;: &quot;marker&quot;, &quot;innerIconStyle&quot;: &quot;margin-top:5;&quot;, &quot;isAlphaNumericIcon&quot;: false, &quot;spin&quot;: false, &quot;textColor&quot;: &quot;black&quot;}\n",
       "            )\n",
       "            marker_b7d4f931cb0922e689f66ac373189aa7.setIcon(beautify_icon_57a9ed0fbc4847a61ab1aae34c8cb8a9);\n",
       "        \n",
       "    \n",
       "        var popup_fb3f6c6f486ca2e9328379493ea873ec = L.popup({&quot;maxWidth&quot;: &quot;100%&quot;});\n",
       "\n",
       "        \n",
       "            \n",
       "                var html_b83cd1ade8b2b56f2183d472815fde0d = $(`&lt;div id=&quot;html_b83cd1ade8b2b56f2183d472815fde0d&quot; style=&quot;width: 100.0%; height: 100.0%;&quot;&gt;0&lt;/div&gt;`)[0];\n",
       "                popup_fb3f6c6f486ca2e9328379493ea873ec.setContent(html_b83cd1ade8b2b56f2183d472815fde0d);\n",
       "            \n",
       "        \n",
       "\n",
       "        marker_b7d4f931cb0922e689f66ac373189aa7.bindPopup(popup_fb3f6c6f486ca2e9328379493ea873ec)\n",
       "        ;\n",
       "\n",
       "        \n",
       "    \n",
       "    \n",
       "            marker_b7d4f931cb0922e689f66ac373189aa7.bindTooltip(\n",
       "                `&lt;div&gt;\n",
       "                     0\n",
       "                 &lt;/div&gt;`,\n",
       "                {&quot;sticky&quot;: true}\n",
       "            );\n",
       "        \n",
       "    \n",
       "            var marker_46892f34732a340d4c81ebef86492495 = L.marker(\n",
       "                [31.735933551806966, 54.781853529617024],\n",
       "                {}\n",
       "            ).addTo(map_3818ad2b4da7eb4507e72e4db471d6c9);\n",
       "        \n",
       "    \n",
       "            var beautify_icon_92a78a7a41b419d27d74352e601bfcaa = new L.BeautifyIcon.icon(\n",
       "                {&quot;backgroundColor&quot;: &quot;#FFF&quot;, &quot;borderColor&quot;: &quot;black&quot;, &quot;borderWidth&quot;: 3, &quot;icon&quot;: 1, &quot;iconShape&quot;: &quot;marker&quot;, &quot;innerIconStyle&quot;: &quot;margin-top:5;&quot;, &quot;isAlphaNumericIcon&quot;: false, &quot;spin&quot;: false, &quot;textColor&quot;: &quot;black&quot;}\n",
       "            )\n",
       "            marker_46892f34732a340d4c81ebef86492495.setIcon(beautify_icon_92a78a7a41b419d27d74352e601bfcaa);\n",
       "        \n",
       "    \n",
       "        var popup_179bd79ebb40043218c6300b4287bfb9 = L.popup({&quot;maxWidth&quot;: &quot;100%&quot;});\n",
       "\n",
       "        \n",
       "            \n",
       "                var html_7ef5e471b3177189ef8ad8745edd66ff = $(`&lt;div id=&quot;html_7ef5e471b3177189ef8ad8745edd66ff&quot; style=&quot;width: 100.0%; height: 100.0%;&quot;&gt;1&lt;/div&gt;`)[0];\n",
       "                popup_179bd79ebb40043218c6300b4287bfb9.setContent(html_7ef5e471b3177189ef8ad8745edd66ff);\n",
       "            \n",
       "        \n",
       "\n",
       "        marker_46892f34732a340d4c81ebef86492495.bindPopup(popup_179bd79ebb40043218c6300b4287bfb9)\n",
       "        ;\n",
       "\n",
       "        \n",
       "    \n",
       "    \n",
       "            marker_46892f34732a340d4c81ebef86492495.bindTooltip(\n",
       "                `&lt;div&gt;\n",
       "                     1\n",
       "                 &lt;/div&gt;`,\n",
       "                {&quot;sticky&quot;: true}\n",
       "            );\n",
       "        \n",
       "    \n",
       "            var marker_14fcb928c1de9775d94753b1a04670f0 = L.marker(\n",
       "                [31.835933551806974, 54.731853529617],\n",
       "                {}\n",
       "            ).addTo(map_3818ad2b4da7eb4507e72e4db471d6c9);\n",
       "        \n",
       "    \n",
       "            var beautify_icon_4706c9cf7dff98f8362aca75e426b799 = new L.BeautifyIcon.icon(\n",
       "                {&quot;backgroundColor&quot;: &quot;#FFF&quot;, &quot;borderColor&quot;: &quot;black&quot;, &quot;borderWidth&quot;: 3, &quot;icon&quot;: 2, &quot;iconShape&quot;: &quot;marker&quot;, &quot;innerIconStyle&quot;: &quot;margin-top:5;&quot;, &quot;isAlphaNumericIcon&quot;: false, &quot;spin&quot;: false, &quot;textColor&quot;: &quot;black&quot;}\n",
       "            )\n",
       "            marker_14fcb928c1de9775d94753b1a04670f0.setIcon(beautify_icon_4706c9cf7dff98f8362aca75e426b799);\n",
       "        \n",
       "    \n",
       "        var popup_594926f09f7016d5dc3fe6dd9a123872 = L.popup({&quot;maxWidth&quot;: &quot;100%&quot;});\n",
       "\n",
       "        \n",
       "            \n",
       "                var html_ec02cb4959121a22078c3b4085e318b7 = $(`&lt;div id=&quot;html_ec02cb4959121a22078c3b4085e318b7&quot; style=&quot;width: 100.0%; height: 100.0%;&quot;&gt;2&lt;/div&gt;`)[0];\n",
       "                popup_594926f09f7016d5dc3fe6dd9a123872.setContent(html_ec02cb4959121a22078c3b4085e318b7);\n",
       "            \n",
       "        \n",
       "\n",
       "        marker_14fcb928c1de9775d94753b1a04670f0.bindPopup(popup_594926f09f7016d5dc3fe6dd9a123872)\n",
       "        ;\n",
       "\n",
       "        \n",
       "    \n",
       "    \n",
       "            marker_14fcb928c1de9775d94753b1a04670f0.bindTooltip(\n",
       "                `&lt;div&gt;\n",
       "                     2\n",
       "                 &lt;/div&gt;`,\n",
       "                {&quot;sticky&quot;: true}\n",
       "            );\n",
       "        \n",
       "    \n",
       "            var marker_515fb86934736a2ef1fe5576baf89540 = L.marker(\n",
       "                [31.830933551806964, 54.73685352961703],\n",
       "                {}\n",
       "            ).addTo(map_3818ad2b4da7eb4507e72e4db471d6c9);\n",
       "        \n",
       "    \n",
       "            var beautify_icon_f5f2aab91dfdc1c4e6dc28ec8a329d7d = new L.BeautifyIcon.icon(\n",
       "                {&quot;backgroundColor&quot;: &quot;#FFF&quot;, &quot;borderColor&quot;: &quot;black&quot;, &quot;borderWidth&quot;: 3, &quot;icon&quot;: 3, &quot;iconShape&quot;: &quot;marker&quot;, &quot;innerIconStyle&quot;: &quot;margin-top:5;&quot;, &quot;isAlphaNumericIcon&quot;: false, &quot;spin&quot;: false, &quot;textColor&quot;: &quot;black&quot;}\n",
       "            )\n",
       "            marker_515fb86934736a2ef1fe5576baf89540.setIcon(beautify_icon_f5f2aab91dfdc1c4e6dc28ec8a329d7d);\n",
       "        \n",
       "    \n",
       "        var popup_5d37e83e7b1580c7da1e08c4cec420a7 = L.popup({&quot;maxWidth&quot;: &quot;100%&quot;});\n",
       "\n",
       "        \n",
       "            \n",
       "                var html_9890f67c0f5058869eb8d489016abb6e = $(`&lt;div id=&quot;html_9890f67c0f5058869eb8d489016abb6e&quot; style=&quot;width: 100.0%; height: 100.0%;&quot;&gt;3&lt;/div&gt;`)[0];\n",
       "                popup_5d37e83e7b1580c7da1e08c4cec420a7.setContent(html_9890f67c0f5058869eb8d489016abb6e);\n",
       "            \n",
       "        \n",
       "\n",
       "        marker_515fb86934736a2ef1fe5576baf89540.bindPopup(popup_5d37e83e7b1580c7da1e08c4cec420a7)\n",
       "        ;\n",
       "\n",
       "        \n",
       "    \n",
       "    \n",
       "            marker_515fb86934736a2ef1fe5576baf89540.bindTooltip(\n",
       "                `&lt;div&gt;\n",
       "                     3\n",
       "                 &lt;/div&gt;`,\n",
       "                {&quot;sticky&quot;: true}\n",
       "            );\n",
       "        \n",
       "    \n",
       "            var marker_b766e48d17634cf1e279e37a90f67c25 = L.marker(\n",
       "                [31.83193355180695, 54.73835352961706],\n",
       "                {}\n",
       "            ).addTo(map_3818ad2b4da7eb4507e72e4db471d6c9);\n",
       "        \n",
       "    \n",
       "            var beautify_icon_d03821d78e44db7b35268385a7f796aa = new L.BeautifyIcon.icon(\n",
       "                {&quot;backgroundColor&quot;: &quot;#FFF&quot;, &quot;borderColor&quot;: &quot;black&quot;, &quot;borderWidth&quot;: 3, &quot;icon&quot;: 4, &quot;iconShape&quot;: &quot;marker&quot;, &quot;innerIconStyle&quot;: &quot;margin-top:5;&quot;, &quot;isAlphaNumericIcon&quot;: false, &quot;spin&quot;: false, &quot;textColor&quot;: &quot;black&quot;}\n",
       "            )\n",
       "            marker_b766e48d17634cf1e279e37a90f67c25.setIcon(beautify_icon_d03821d78e44db7b35268385a7f796aa);\n",
       "        \n",
       "    \n",
       "        var popup_8f17e27c8a3d33111845dc01ead02d31 = L.popup({&quot;maxWidth&quot;: &quot;100%&quot;});\n",
       "\n",
       "        \n",
       "            \n",
       "                var html_0583b9077befd8890fb6f673189d195c = $(`&lt;div id=&quot;html_0583b9077befd8890fb6f673189d195c&quot; style=&quot;width: 100.0%; height: 100.0%;&quot;&gt;4&lt;/div&gt;`)[0];\n",
       "                popup_8f17e27c8a3d33111845dc01ead02d31.setContent(html_0583b9077befd8890fb6f673189d195c);\n",
       "            \n",
       "        \n",
       "\n",
       "        marker_b766e48d17634cf1e279e37a90f67c25.bindPopup(popup_8f17e27c8a3d33111845dc01ead02d31)\n",
       "        ;\n",
       "\n",
       "        \n",
       "    \n",
       "    \n",
       "            marker_b766e48d17634cf1e279e37a90f67c25.bindTooltip(\n",
       "                `&lt;div&gt;\n",
       "                     4\n",
       "                 &lt;/div&gt;`,\n",
       "                {&quot;sticky&quot;: true}\n",
       "            );\n",
       "        \n",
       "    \n",
       "            var marker_e1d5d611d8d5254d4e15aaaba3075504 = L.marker(\n",
       "                [31.831883551806968, 54.738453529617075],\n",
       "                {}\n",
       "            ).addTo(map_3818ad2b4da7eb4507e72e4db471d6c9);\n",
       "        \n",
       "    \n",
       "            var beautify_icon_734be9ab1f899b56a9373534f5815a93 = new L.BeautifyIcon.icon(\n",
       "                {&quot;backgroundColor&quot;: &quot;#FFF&quot;, &quot;borderColor&quot;: &quot;black&quot;, &quot;borderWidth&quot;: 3, &quot;icon&quot;: 5, &quot;iconShape&quot;: &quot;marker&quot;, &quot;innerIconStyle&quot;: &quot;margin-top:5;&quot;, &quot;isAlphaNumericIcon&quot;: false, &quot;spin&quot;: false, &quot;textColor&quot;: &quot;black&quot;}\n",
       "            )\n",
       "            marker_e1d5d611d8d5254d4e15aaaba3075504.setIcon(beautify_icon_734be9ab1f899b56a9373534f5815a93);\n",
       "        \n",
       "    \n",
       "        var popup_c51e49401096241eacc0cae03faaee2d = L.popup({&quot;maxWidth&quot;: &quot;100%&quot;});\n",
       "\n",
       "        \n",
       "            \n",
       "                var html_599e8805a7d6c8767b07a2c176e32f26 = $(`&lt;div id=&quot;html_599e8805a7d6c8767b07a2c176e32f26&quot; style=&quot;width: 100.0%; height: 100.0%;&quot;&gt;5&lt;/div&gt;`)[0];\n",
       "                popup_c51e49401096241eacc0cae03faaee2d.setContent(html_599e8805a7d6c8767b07a2c176e32f26);\n",
       "            \n",
       "        \n",
       "\n",
       "        marker_e1d5d611d8d5254d4e15aaaba3075504.bindPopup(popup_c51e49401096241eacc0cae03faaee2d)\n",
       "        ;\n",
       "\n",
       "        \n",
       "    \n",
       "    \n",
       "            marker_e1d5d611d8d5254d4e15aaaba3075504.bindTooltip(\n",
       "                `&lt;div&gt;\n",
       "                     5\n",
       "                 &lt;/div&gt;`,\n",
       "                {&quot;sticky&quot;: true}\n",
       "            );\n",
       "        \n",
       "    \n",
       "            var marker_544746eca27aa0173652ccee78f37032 = L.marker(\n",
       "                [31.831893551806985, 54.73842852961708],\n",
       "                {}\n",
       "            ).addTo(map_3818ad2b4da7eb4507e72e4db471d6c9);\n",
       "        \n",
       "    \n",
       "            var beautify_icon_cdbba1673cfe92314fa67482c4c8def6 = new L.BeautifyIcon.icon(\n",
       "                {&quot;backgroundColor&quot;: &quot;#FFF&quot;, &quot;borderColor&quot;: &quot;black&quot;, &quot;borderWidth&quot;: 3, &quot;icon&quot;: 6, &quot;iconShape&quot;: &quot;marker&quot;, &quot;innerIconStyle&quot;: &quot;margin-top:5;&quot;, &quot;isAlphaNumericIcon&quot;: false, &quot;spin&quot;: false, &quot;textColor&quot;: &quot;black&quot;}\n",
       "            )\n",
       "            marker_544746eca27aa0173652ccee78f37032.setIcon(beautify_icon_cdbba1673cfe92314fa67482c4c8def6);\n",
       "        \n",
       "    \n",
       "        var popup_df91cda67b8c07b34965e62184b3e5ed = L.popup({&quot;maxWidth&quot;: &quot;100%&quot;});\n",
       "\n",
       "        \n",
       "            \n",
       "                var html_a9159671a541d68bfe8e68dc01a71e69 = $(`&lt;div id=&quot;html_a9159671a541d68bfe8e68dc01a71e69&quot; style=&quot;width: 100.0%; height: 100.0%;&quot;&gt;6&lt;/div&gt;`)[0];\n",
       "                popup_df91cda67b8c07b34965e62184b3e5ed.setContent(html_a9159671a541d68bfe8e68dc01a71e69);\n",
       "            \n",
       "        \n",
       "\n",
       "        marker_544746eca27aa0173652ccee78f37032.bindPopup(popup_df91cda67b8c07b34965e62184b3e5ed)\n",
       "        ;\n",
       "\n",
       "        \n",
       "    \n",
       "    \n",
       "            marker_544746eca27aa0173652ccee78f37032.bindTooltip(\n",
       "                `&lt;div&gt;\n",
       "                     6\n",
       "                 &lt;/div&gt;`,\n",
       "                {&quot;sticky&quot;: true}\n",
       "            );\n",
       "        \n",
       "    \n",
       "            var marker_0fc5cdc721dd41e573b6b2b6bf0fd4cb = L.marker(\n",
       "                [31.831892051806975, 54.738429529617065],\n",
       "                {}\n",
       "            ).addTo(map_3818ad2b4da7eb4507e72e4db471d6c9);\n",
       "        \n",
       "    \n",
       "            var beautify_icon_398862825104faa95fa4a90cdd8ee9cc = new L.BeautifyIcon.icon(\n",
       "                {&quot;backgroundColor&quot;: &quot;#FFF&quot;, &quot;borderColor&quot;: &quot;black&quot;, &quot;borderWidth&quot;: 3, &quot;icon&quot;: 7, &quot;iconShape&quot;: &quot;marker&quot;, &quot;innerIconStyle&quot;: &quot;margin-top:5;&quot;, &quot;isAlphaNumericIcon&quot;: false, &quot;spin&quot;: false, &quot;textColor&quot;: &quot;black&quot;}\n",
       "            )\n",
       "            marker_0fc5cdc721dd41e573b6b2b6bf0fd4cb.setIcon(beautify_icon_398862825104faa95fa4a90cdd8ee9cc);\n",
       "        \n",
       "    \n",
       "        var popup_4f7ed2aadcfb4a66d2f6a1ba5ec4fffb = L.popup({&quot;maxWidth&quot;: &quot;100%&quot;});\n",
       "\n",
       "        \n",
       "            \n",
       "                var html_d43aa04f71e9caca504bb8ac9a345b53 = $(`&lt;div id=&quot;html_d43aa04f71e9caca504bb8ac9a345b53&quot; style=&quot;width: 100.0%; height: 100.0%;&quot;&gt;7&lt;/div&gt;`)[0];\n",
       "                popup_4f7ed2aadcfb4a66d2f6a1ba5ec4fffb.setContent(html_d43aa04f71e9caca504bb8ac9a345b53);\n",
       "            \n",
       "        \n",
       "\n",
       "        marker_0fc5cdc721dd41e573b6b2b6bf0fd4cb.bindPopup(popup_4f7ed2aadcfb4a66d2f6a1ba5ec4fffb)\n",
       "        ;\n",
       "\n",
       "        \n",
       "    \n",
       "    \n",
       "            marker_0fc5cdc721dd41e573b6b2b6bf0fd4cb.bindTooltip(\n",
       "                `&lt;div&gt;\n",
       "                     7\n",
       "                 &lt;/div&gt;`,\n",
       "                {&quot;sticky&quot;: true}\n",
       "            );\n",
       "        \n",
       "    \n",
       "            var marker_e9cd75a47c45f0e88235b3256951689f = L.marker(\n",
       "                [31.83189205180698, 54.73842942961704],\n",
       "                {}\n",
       "            ).addTo(map_3818ad2b4da7eb4507e72e4db471d6c9);\n",
       "        \n",
       "    \n",
       "            var beautify_icon_ac7951aea10c201bcc4ba1ca39b557ad = new L.BeautifyIcon.icon(\n",
       "                {&quot;backgroundColor&quot;: &quot;#FFF&quot;, &quot;borderColor&quot;: &quot;black&quot;, &quot;borderWidth&quot;: 3, &quot;icon&quot;: 8, &quot;iconShape&quot;: &quot;marker&quot;, &quot;innerIconStyle&quot;: &quot;margin-top:5;&quot;, &quot;isAlphaNumericIcon&quot;: false, &quot;spin&quot;: false, &quot;textColor&quot;: &quot;black&quot;}\n",
       "            )\n",
       "            marker_e9cd75a47c45f0e88235b3256951689f.setIcon(beautify_icon_ac7951aea10c201bcc4ba1ca39b557ad);\n",
       "        \n",
       "    \n",
       "        var popup_ea82e6267492e07f842ad52860e7da3e = L.popup({&quot;maxWidth&quot;: &quot;100%&quot;});\n",
       "\n",
       "        \n",
       "            \n",
       "                var html_10d10a1369ac99cfce71a044f66bdde1 = $(`&lt;div id=&quot;html_10d10a1369ac99cfce71a044f66bdde1&quot; style=&quot;width: 100.0%; height: 100.0%;&quot;&gt;8&lt;/div&gt;`)[0];\n",
       "                popup_ea82e6267492e07f842ad52860e7da3e.setContent(html_10d10a1369ac99cfce71a044f66bdde1);\n",
       "            \n",
       "        \n",
       "\n",
       "        marker_e9cd75a47c45f0e88235b3256951689f.bindPopup(popup_ea82e6267492e07f842ad52860e7da3e)\n",
       "        ;\n",
       "\n",
       "        \n",
       "    \n",
       "    \n",
       "            marker_e9cd75a47c45f0e88235b3256951689f.bindTooltip(\n",
       "                `&lt;div&gt;\n",
       "                     8\n",
       "                 &lt;/div&gt;`,\n",
       "                {&quot;sticky&quot;: true}\n",
       "            );\n",
       "        \n",
       "    \n",
       "            var marker_1b2d1327fd97e90224566165b69f3e04 = L.marker(\n",
       "                [31.831892051806985, 54.73842941961702],\n",
       "                {}\n",
       "            ).addTo(map_3818ad2b4da7eb4507e72e4db471d6c9);\n",
       "        \n",
       "    \n",
       "            var beautify_icon_eb1f97886b2044b2c55b5d0041efb62f = new L.BeautifyIcon.icon(\n",
       "                {&quot;backgroundColor&quot;: &quot;#FFF&quot;, &quot;borderColor&quot;: &quot;black&quot;, &quot;borderWidth&quot;: 3, &quot;icon&quot;: 9, &quot;iconShape&quot;: &quot;marker&quot;, &quot;innerIconStyle&quot;: &quot;margin-top:5;&quot;, &quot;isAlphaNumericIcon&quot;: false, &quot;spin&quot;: false, &quot;textColor&quot;: &quot;black&quot;}\n",
       "            )\n",
       "            marker_1b2d1327fd97e90224566165b69f3e04.setIcon(beautify_icon_eb1f97886b2044b2c55b5d0041efb62f);\n",
       "        \n",
       "    \n",
       "        var popup_b03bd208f5964ec37717091a5aee5640 = L.popup({&quot;maxWidth&quot;: &quot;100%&quot;});\n",
       "\n",
       "        \n",
       "            \n",
       "                var html_176b5da10bc5caf13641a8697cde1cd6 = $(`&lt;div id=&quot;html_176b5da10bc5caf13641a8697cde1cd6&quot; style=&quot;width: 100.0%; height: 100.0%;&quot;&gt;9&lt;/div&gt;`)[0];\n",
       "                popup_b03bd208f5964ec37717091a5aee5640.setContent(html_176b5da10bc5caf13641a8697cde1cd6);\n",
       "            \n",
       "        \n",
       "\n",
       "        marker_1b2d1327fd97e90224566165b69f3e04.bindPopup(popup_b03bd208f5964ec37717091a5aee5640)\n",
       "        ;\n",
       "\n",
       "        \n",
       "    \n",
       "    \n",
       "            marker_1b2d1327fd97e90224566165b69f3e04.bindTooltip(\n",
       "                `&lt;div&gt;\n",
       "                     9\n",
       "                 &lt;/div&gt;`,\n",
       "                {&quot;sticky&quot;: true}\n",
       "            );\n",
       "        \n",
       "&lt;/script&gt;\n",
       "&lt;/html&gt;\" style=\"position:absolute;width:100%;height:100%;left:0;top:0;border:none !important;\" allowfullscreen webkitallowfullscreen mozallowfullscreen></iframe></div></div>"
      ],
      "text/plain": [
       "<folium.folium.Map at 0x289fb026d90>"
      ]
     },
     "execution_count": 97,
     "metadata": {},
     "output_type": "execute_result"
    }
   ],
   "source": [
    "mymap = folium.Map(location=center_candidates[0], zoom_start=6)\n",
    "\n",
    "for tag, coords in enumerate(center_candidates[:10]):\n",
    "    # folium.Marker(location=[coor[0], coor[1]], tooltip=index, popup=folium.Popup(str(index), parse_html=True)).add_to(mymap)\n",
    "    icon = plugins.BeautifyIcon(\n",
    "        # icon='circle',\n",
    "        icon=tag,\n",
    "        border_color='black',\n",
    "        text_color='black',\n",
    "        inner_icon_style='margin-top:5;',\n",
    "        icon_shape='marker'\n",
    "    )\n",
    "    folium.Marker(\n",
    "        location=[coords[0], coords[1]],\n",
    "        popup=folium.Popup(str(tag), parse_html=True),  # Optional: remove if you don't want a popup\n",
    "        icon=icon,\n",
    "        tooltip=str(tag)  # Optional tooltip\n",
    "    ).add_to(mymap)\n",
    "\n",
    "\n",
    "mymap"
   ]
  }
 ],
 "metadata": {
  "kernelspec": {
   "display_name": "Python 3",
   "language": "python",
   "name": "python3"
  },
  "language_info": {
   "codemirror_mode": {
    "name": "ipython",
    "version": 3
   },
   "file_extension": ".py",
   "mimetype": "text/x-python",
   "name": "python",
   "nbconvert_exporter": "python",
   "pygments_lexer": "ipython3",
   "version": "3.9.18"
  },
  "orig_nbformat": 4
 },
 "nbformat": 4,
 "nbformat_minor": 2
}
